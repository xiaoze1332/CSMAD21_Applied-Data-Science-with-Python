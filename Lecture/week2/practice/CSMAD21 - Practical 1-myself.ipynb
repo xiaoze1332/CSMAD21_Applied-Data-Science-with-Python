{
 "cells": [
  {
   "cell_type": "markdown",
   "metadata": {
    "id": "fsuzyIA2wh_0"
   },
   "source": [
    "# CSMAD21 - Applied Data Science with Python - Practical 1\n",
    "\n",
    "## Data Types and Operators"
   ]
  },
  {
   "cell_type": "markdown",
   "metadata": {
    "id": "RZEf6Yt7wh_1"
   },
   "source": [
    "Follow the instructions to complete each of these tasks, and use the testing code cells to check your answers. This set of exercises focuses on writing basic Python code, specifically python data types and operators.\n",
    "\n",
    "The relevant materials for these exercises is Lecture2&3-DataTypes-ComparisonOperators-FlowControl.\n",
    "\n",
    "This is not assessed but will help you gain practical experience for the exam and coursework.\n",
    "\n",
    "*Feel free to work on them in any order, and focus on the ones you find most challening or interesting!*"
   ]
  },
  {
   "cell_type": "markdown",
   "metadata": {
    "id": "T6K9iMluwh_1"
   },
   "source": [
    "### A Classic or Cliche?\n",
    "\n",
    "Print Hello World!"
   ]
  },
  {
   "cell_type": "code",
   "execution_count": 2,
   "metadata": {
    "colab": {
     "base_uri": "https://localhost:8080/",
     "height": 35
    },
    "id": "9oQSnp4lwh_2",
    "outputId": "a30717f7-d944-43be-c4f6-52160d4cfcf1"
   },
   "outputs": [
    {
     "name": "stdout",
     "output_type": "stream",
     "text": [
      "Hello World\n"
     ]
    }
   ],
   "source": [
    "print(\"Hello World\")"
   ]
  },
  {
   "cell_type": "markdown",
   "metadata": {
    "id": "XQCJUjGZwh_5"
   },
   "source": [
    "### Variables\n",
    "\n",
    "In python there is no need to declare a type.\n",
    "\n",
    "Create the following variables:\n",
    "    - Name\n",
    "    - Age\n",
    "\n",
    "Use your own name and age and then print both."
   ]
  },
  {
   "cell_type": "code",
   "execution_count": 3,
   "metadata": {
    "colab": {
     "base_uri": "https://localhost:8080/",
     "height": 35
    },
    "id": "PlNJUMXJwh_6",
    "outputId": "634a2cbd-4f17-44ee-c313-ebb147966aaf"
   },
   "outputs": [
    {
     "name": "stdout",
     "output_type": "stream",
     "text": [
      "Chen Yuqiao\n",
      "18\n"
     ]
    }
   ],
   "source": [
    "name = \"Chen Yuqiao\"\n",
    "age = 18\n",
    "print(name)\n",
    "print(age)"
   ]
  },
  {
   "cell_type": "markdown",
   "metadata": {
    "id": "EBpREh7dwh_8"
   },
   "source": [
    "## Array Types in Python\n",
    "\n",
    "- Lists\n",
    "- Tuple\n",
    "- Set\n",
    "- Dictionary\n",
    "\n",
    "### Lists\n",
    "\n",
    "Lists are declared using [] and they are both ordered and changeable.\n",
    "\n",
    "1.1 Declare a list called modules of the modules you are studing this year and print them."
   ]
  },
  {
   "cell_type": "code",
   "execution_count": 8,
   "metadata": {
    "colab": {
     "base_uri": "https://localhost:8080/",
     "height": 35
    },
    "id": "s057jVJhwh_9",
    "outputId": "42ca0702-020a-4997-8027-ddbee40efdcb"
   },
   "outputs": [
    {
     "name": "stdout",
     "output_type": "stream",
     "text": [
      "['Python and Data Science', 'Software quality and testing', 'Individual Project', 'Information Security', 'Artificial Intelligence']\n"
     ]
    }
   ],
   "source": [
    "modules1 = [\"Big Data\", \"Machine Learning\", \"Research Studies\", \"Data Mining\"]\n",
    "print(modules)"
   ]
  },
  {
   "cell_type": "markdown",
   "metadata": {
    "id": "1s4BqmtEwh__"
   },
   "source": [
    "#### Accessing lists\n",
    "\n",
    "1.2 Access using the index - print the 3rd module in the list.\n",
    "    * note whether python uses 0 or 1 indexing as a comment.\n",
    "\n"
   ]
  },
  {
   "cell_type": "code",
   "execution_count": 9,
   "metadata": {
    "colab": {
     "base_uri": "https://localhost:8080/",
     "height": 35
    },
    "id": "k53RNfUcwh__",
    "outputId": "d560c142-4612-4c01-9de9-dbad97a0461b"
   },
   "outputs": [
    {
     "name": "stdout",
     "output_type": "stream",
     "text": [
      "Research Studies\n"
     ]
    }
   ],
   "source": [
    "print(modules1[2])"
   ]
  },
  {
   "cell_type": "markdown",
   "metadata": {
    "id": "_IehnUlOwiAB"
   },
   "source": [
    "1.3 Negative indexing - this allows you to access from the end of the list, print the 3rd from last module in the list."
   ]
  },
  {
   "cell_type": "code",
   "execution_count": 6,
   "metadata": {
    "colab": {
     "base_uri": "https://localhost:8080/",
     "height": 35
    },
    "id": "HbzAKrqzwiAC",
    "outputId": "fb469941-9ab3-45c6-a247-8fe8f4acd6c1"
   },
   "outputs": [
    {
     "name": "stdout",
     "output_type": "stream",
     "text": [
      "Machine Learning\n"
     ]
    }
   ],
   "source": [
    "print(modules1[-3])"
   ]
  },
  {
   "cell_type": "markdown",
   "metadata": {
    "id": "J1WgH_LxwiAE"
   },
   "source": [
    "#### Working with lists\n",
    "\n",
    "1.4 Create a second list called lastyear with the modules you studied last year."
   ]
  },
  {
   "cell_type": "code",
   "execution_count": 10,
   "metadata": {
    "colab": {
     "base_uri": "https://localhost:8080/",
     "height": 35
    },
    "id": "3GYck5VrwiAF",
    "outputId": "a5515402-dae8-497a-b3e9-750dad4853e7"
   },
   "outputs": [],
   "source": [
    "modules2 = [\"Python and Data Science\", \"Software quality and testing\", \"Individual Project\", \"Information Security\", \"Artificial Intelligence\"]"
   ]
  },
  {
   "cell_type": "markdown",
   "metadata": {
    "id": "CL8_EOywwiAH"
   },
   "source": [
    "1.5 Join both lists into one. \n",
    "\n",
    "HINT: there are 3 ways you cold do this..."
   ]
  },
  {
   "cell_type": "code",
   "execution_count": 11,
   "metadata": {
    "colab": {
     "base_uri": "https://localhost:8080/",
     "height": 35
    },
    "id": "GoYP5CYtwiAI",
    "outputId": "37af588a-5738-45e4-81e8-94fb9f6c8b03"
   },
   "outputs": [
    {
     "name": "stdout",
     "output_type": "stream",
     "text": [
      "['Big Data', 'Machine Learning', 'Research Studies', 'Data Mining', 'Python and Data Science', 'Software quality and testing', 'Individual Project', 'Information Security', 'Artificial Intelligence']\n"
     ]
    }
   ],
   "source": [
    "print(modules1+modules2)"
   ]
  },
  {
   "cell_type": "markdown",
   "metadata": {
    "id": "kdUOud2SwiAK"
   },
   "source": [
    "### Dictionaries\n",
    "\n",
    "Dictionaries are declared using {} and are unordered, changeable and indexed. They contain key and value pairs.\n",
    "\n",
    "2.1 Declare a dictionary called favmod with the information for your favourite module with the following information:\n",
    "    - Name\n",
    "    - Year\n",
    "    - Lecturer\n",
    "\n",
    "Then print the dictionary."
   ]
  },
  {
   "cell_type": "code",
   "execution_count": 12,
   "metadata": {
    "colab": {
     "base_uri": "https://localhost:8080/",
     "height": 35
    },
    "id": "_dxQbUQ2wiAK",
    "outputId": "76379c8e-dce1-4243-9404-8469e5eb4a49"
   },
   "outputs": [
    {
     "name": "stdout",
     "output_type": "stream",
     "text": [
      "{'Name': 'Python and Data Science', 'Year': 'Final Year', 'Lecturer': 'Miguel'}\n"
     ]
    }
   ],
   "source": [
    "d = {'Name': 'Python and Data Science', 'Year': 'Final Year', 'Lecturer': 'Miguel'}\n",
    "print(d)"
   ]
  },
  {
   "cell_type": "markdown",
   "metadata": {
    "id": "CqQJNJeewiAM"
   },
   "source": [
    "#### Accessing Dictionaries\n",
    "\n",
    "2.2 Get the value for the year of study from the dictionary and print it."
   ]
  },
  {
   "cell_type": "code",
   "execution_count": 17,
   "metadata": {
    "colab": {
     "base_uri": "https://localhost:8080/",
     "height": 35
    },
    "id": "5-ddsAqXwiAM",
    "outputId": "46739ee0-da17-4519-8a80-3827b36004af"
   },
   "outputs": [
    {
     "data": {
      "text/plain": [
       "'Final Year'"
      ]
     },
     "execution_count": 17,
     "metadata": {},
     "output_type": "execute_result"
    }
   ],
   "source": [
    "d['Year']"
   ]
  },
  {
   "cell_type": "markdown",
   "metadata": {
    "id": "mkdgcoX6wiAP"
   },
   "source": [
    "#### Nesting Dictionaries\n",
    "\n",
    "2.3 Declare a second dictionary called secmod with your second favourite module details.\n"
   ]
  },
  {
   "cell_type": "code",
   "execution_count": 19,
   "metadata": {
    "colab": {
     "base_uri": "https://localhost:8080/",
     "height": 35
    },
    "id": "mNtKPi6BwiAP",
    "outputId": "9d3e79dd-6185-434b-a2df-abda520887cb"
   },
   "outputs": [],
   "source": [
    "secmod = {'Name': 'Artifical Intelligence', 'Year': 'Final Year', 'Lecturer': 'Varun'}"
   ]
  },
  {
   "cell_type": "markdown",
   "metadata": {
    "id": "1S4otYpJwiAR"
   },
   "source": [
    "2.4 Create a third dictionary containing the two you previously created called rankedmod and print it."
   ]
  },
  {
   "cell_type": "code",
   "execution_count": 25,
   "metadata": {
    "colab": {
     "base_uri": "https://localhost:8080/",
     "height": 35
    },
    "id": "4ECcBSJDwiAS",
    "outputId": "8ddcfe7f-c43a-46df-bccd-b93a2ccbf0be"
   },
   "outputs": [
    {
     "name": "stdout",
     "output_type": "stream",
     "text": [
      "{'d': {'Name': 'Python and Data Science', 'Year': 'Final Year', 'Lecturer': 'Miguel'}, 'secmod': {'Name': 'Artifical Intelligence', 'Year': 'Final Year', 'Lecturer': 'Varun'}}\n"
     ]
    }
   ],
   "source": [
    "both = {'d':d, 'secmod':secmod}\n",
    "print(both)"
   ]
  },
  {
   "cell_type": "markdown",
   "metadata": {
    "id": "LPaqhJUGwiAU"
   },
   "source": [
    "### IF...ELSE and Loops in Python\n",
    "\n",
    "Python works with indentation rather than brackets to define what is within an IF statement or loop.\n",
    "\n",
    "3.1 Create an if else statement that prints a sentence describing the relationship between the two numbers below (e.g x is greater/smaller than y)."
   ]
  },
  {
   "cell_type": "code",
   "execution_count": 28,
   "metadata": {
    "colab": {
     "base_uri": "https://localhost:8080/",
     "height": 35
    },
    "id": "W8Xsj9yWwiAU",
    "outputId": "f149d08d-bd45-448b-f7f4-630c67b40126"
   },
   "outputs": [
    {
     "name": "stdout",
     "output_type": "stream",
     "text": [
      "b is bigger\n"
     ]
    }
   ],
   "source": [
    "a=1\n",
    "b=10\n",
    "if a>b:\n",
    "    print(\"a is bigger\")\n",
    "else:\n",
    "    print(\"b is bigger\")"
   ]
  },
  {
   "cell_type": "markdown",
   "metadata": {
    "id": "ig-4jjwhwiAW"
   },
   "source": [
    "3.2 Write a loop that prints the values in the modules list you created earlier."
   ]
  },
  {
   "cell_type": "code",
   "execution_count": 33,
   "metadata": {},
   "outputs": [
    {
     "name": "stdout",
     "output_type": "stream",
     "text": [
      "Big Data\n",
      "Machine Learning\n",
      "Research Studies\n",
      "Data Mining\n",
      "Python and Data Science\n",
      "Software quality and testing\n",
      "Individual Project\n",
      "Information Security\n",
      "Artificial Intelligence\n"
     ]
    }
   ],
   "source": [
    "modules = modules1 + modules2\n",
    "\n",
    "for module in modules:\n",
    "    print(module)"
   ]
  },
  {
   "cell_type": "markdown",
   "metadata": {
    "id": "G7cjS1GSwiAX"
   },
   "source": [
    "## Operators\n",
    "\n",
    "Arithmetic operators in python should be familiar, however logic operators are a little different...\n",
    "in Python the words AND, OR and NOT are used as logic operators!\n",
    "\n",
    "4.1 Create and if statement whith multiple conditions using the variables a and b from above and c and d provided below."
   ]
  },
  {
   "cell_type": "code",
   "execution_count": 39,
   "metadata": {
    "colab": {
     "base_uri": "https://localhost:8080/",
     "height": 35
    },
    "id": "ekEnL-qzwiAY",
    "outputId": "d0eb9d78-bc67-4c17-d0ee-cc024205bed1"
   },
   "outputs": [
    {
     "name": "stdout",
     "output_type": "stream",
     "text": [
      "c is the biggest\n"
     ]
    }
   ],
   "source": [
    "c = 100\n",
    "d = 6\n",
    "\n",
    "if a and b and d < c:\n",
    "    print('c is the biggest')\n"
   ]
  },
  {
   "cell_type": "markdown",
   "metadata": {
    "id": "-Eb4k16xTE10"
   },
   "source": [
    "## Challenges"
   ]
  },
  {
   "cell_type": "markdown",
   "metadata": {},
   "source": [
    "### Are we prepared for the weather?\n",
    "\n",
    "You are considered to be prepared for the weather if:\n",
    "\n",
    "- I have an umbrella...\n",
    "- or if the rain isn't too heavy (below 3) and I have a hood...\n",
    "- otherwise, I'm still fine unless it's raining and it's a workday\n",
    "\n",
    "Write a code that validates your rediness for the climate conditions. It should return True or False."
   ]
  },
  {
   "cell_type": "code",
   "execution_count": 13,
   "metadata": {},
   "outputs": [
    {
     "data": {
      "text/plain": [
       "True"
      ]
     },
     "execution_count": 13,
     "metadata": {},
     "output_type": "execute_result"
    }
   ],
   "source": [
    "## Consider the values below to test your solution. \n",
    "##Feel free to change these values in order to test the code to validate it covers all the possible scenarios.\n",
    "\n",
    "have_umbrella = True\n",
    "rain_level = 0.0\n",
    "have_hood = True\n",
    "is_workday = True\n",
    "    \n",
    "if have_umbrella or  \n",
    "\n"
   ]
  },
  {
   "cell_type": "markdown",
   "metadata": {},
   "source": [
    "### Odd or Even?\n",
    "\n",
    "Write some code that prints out a different message for each number in the list below depending on whether it is odd or even.\n"
   ]
  },
  {
   "cell_type": "code",
   "execution_count": 16,
   "metadata": {
    "colab": {
     "base_uri": "https://localhost:8080/",
     "height": 485
    },
    "id": "t-S2_xlLTJrA",
    "outputId": "4915f645-ff9f-4ed7-ef3d-66796ede54a3"
   },
   "outputs": [
    {
     "name": "stdout",
     "output_type": "stream",
     "text": [
      "2\n",
      "even\n",
      "5\n",
      "odd\n",
      "76\n",
      "even\n",
      "89\n",
      "odd\n",
      "77\n",
      "odd\n",
      "103\n",
      "odd\n",
      "24\n",
      "even\n",
      "65\n",
      "odd\n",
      "66\n",
      "even\n",
      "12\n",
      "even\n",
      "1\n",
      "odd\n",
      "0\n",
      "even\n",
      "19\n",
      "odd\n"
     ]
    }
   ],
   "source": [
    "challenge = [2,5,76,89,77,103,24,65,66,12,1,0,19]\n"
   ]
  },
  {
   "cell_type": "code",
   "execution_count": 6,
   "metadata": {},
   "outputs": [
    {
     "name": "stdout",
     "output_type": "stream",
     "text": [
      "2\n",
      "2 is Even\n",
      "5\n",
      "5 is Odd\n",
      "76\n",
      "76 is Even\n",
      "89\n",
      "89 is Odd\n",
      "77\n",
      "77 is Odd\n",
      "103\n",
      "103 is Odd\n",
      "24\n",
      "24 is Even\n",
      "65\n",
      "65 is Odd\n",
      "66\n",
      "66 is Even\n",
      "12\n",
      "12 is Even\n",
      "1\n",
      "1 is Odd\n",
      "0\n",
      "0 is Even\n",
      "19\n",
      "19 is Odd\n"
     ]
    }
   ],
   "source": [
    "challenge = [2,5,76,89,77,103,24,65,66,12,1,0,19]\n",
    "\n",
    "for x in challenge:\n",
    "    if (x % 2) == 0:\n",
    "        print(x)\n",
    "        print(\"{0} is Even\".format(x))\n",
    "    else:\n",
    "        print(x)\n",
    "        print(\"{0} is Odd\".format(x))"
   ]
  },
  {
   "cell_type": "markdown",
   "metadata": {},
   "source": [
    "### Find the hidden message\n",
    "\n",
    "Write a code that can find the hidden message in the text by extracting the uppercase letters.\n",
    "\n",
    "_\"mr. and mrs. dursley, of number four, prIvet drive, were proud to say that they were perfectLy normal, thank you very much. they were the last peOple you’d expect to be involved in anything strange or mysterious, because they just didn’t hold with such nonsense. mr. dursley was the director of a firm called grunnings, which made drills. he was a big, beefy man with hardly any neck, although he did have a Very largE mustache. mrs. dursley was thin and blonde and had nearly twice the usual amount of neck, which came in very useful as she sPent so much of her time craning over garden fences, spYing on THe neighbors. the ursleys had a small sOn called dudley and in their opinion there was No finer boy anywhere.\"_\n",
    "\n",
    "Rowling, J. K. (2014). Harry potter and the philosopher’s stone. Bloomsbury Childrens Books.\n",
    "\n"
   ]
  },
  {
   "cell_type": "code",
   "execution_count": 1,
   "metadata": {},
   "outputs": [
    {
     "name": "stdout",
     "output_type": "stream",
     "text": [
      "ILOVEPYTHON"
     ]
    }
   ],
   "source": [
    "message = 'mr. and mrs. dursley, of number four, prIvet drive, were proud to say that they were perfectLy normal, thank you very much. they were the last peOple you’d expect to be involved in anything strange or mysterious, because they just didn’t hold with such nonsense. mr. dursley was the director of a firm called grunnings, which made drills. he was a big, beefy man with hardly any neck, although he did have a Very largE mustache. mrs. dursley was thin and blonde and had nearly twice the usual amount of neck, which came in very useful as she sPent so much of her time craning over garden fences, spYing on THe neighbors. the dursleys had a small sOn called dudley and in their opinion there was No finer boy anywhere.'\n",
    "##Your code:\n",
    "\n",
    "for x in message:\n",
    "    if x.istitle():\n",
    "        print(x,end='')\n",
    "        \n",
    " "
   ]
  },
  {
   "cell_type": "markdown",
   "metadata": {},
   "source": [
    "### Mario Kart red shell simulator\n",
    "The next exercise will feature a Mario Kart race where a player uses the Red Shell. When used, it hits the competitor in front of the payer who shot it and the places in the leaderboard are switched. Complete the function below to implement the Red Shell's effect. \n",
    "\n",
    "Note: \n",
    "- If the first player shoots the Shell, there will be no changes in the leaderboard.\n",
    "- Remember that the indexes in lists start in 0."
   ]
  },
  {
   "cell_type": "code",
   "execution_count": 107,
   "metadata": {},
   "outputs": [
    {
     "name": "stdout",
     "output_type": "stream",
     "text": [
      "The positions of the race are the following: ['Mario', 'Luigi', 'Peach', 'Daisy', 'Yoshi', 'Toad', 'Toadette', 'Rosalina']\n",
      "The position 2 in the race, Luigi , shoot a Red shell!!!\n",
      "Now the leaderboar is: ['Luigi', 'Mario', 'Peach', 'Daisy', 'Yoshi', 'Toad', 'Toadette', 'Rosalina']\n"
     ]
    }
   ],
   "source": [
    "leaderboard = ['Mario', 'Luigi', 'Peach', 'Daisy', 'Yoshi', 'Toad', 'Toadette', 'Rosalina']\n",
    "##Remember that in lists, the first position is 0\n",
    "##\n",
    "print('The positions of the race are the following:', leaderboard)\n",
    "\n",
    "##define the position of the player that is going to shoot the shell(1st, 2nd, 3rd place)\n",
    "shooter = 2\n",
    "\n",
    "print('The position',shooter ,'in the race,',leaderboard[shooter -1], ', shoot a Red shell!!!')\n",
    "##Your code:\n",
    "\n",
    "if shooter == 1:\n",
    "    print()\n"
   ]
  },
  {
   "cell_type": "code",
   "execution_count": null,
   "metadata": {},
   "outputs": [],
   "source": []
  },
  {
   "cell_type": "markdown",
   "metadata": {
    "id": "cIplmV6dwiAa"
   },
   "source": [
    "### Keyword finder\n",
    "You have collected a series of articles and you would like to filter them for the most relevant regarding a particluar word. \n",
    "\n",
    "The code should meet the following criteria:\n",
    "\n",
    "- Do not include documents where the keyword string shows up only as a part of a larger word. For example, if you are looking for the keyword “closed”, you would not include the string “enclosed.”\n",
    "- Not distintion between upper case from lower case letters. Phrases “Closed the case.” would be included when the keyword is “closed”\n",
    "- Periods or commas shouldn't affect what is matched. “It is closed.” or “It is closed,” would be included when the keyword is “closed”. You can assume there are no other types of punctuation.\n",
    "- It should return the amount of times the keyword was found in each article.\n",
    "\n",
    "(https://docs.python.org/3/library/stdtypes.html)"
   ]
  },
  {
   "cell_type": "code",
   "execution_count": 1,
   "metadata": {},
   "outputs": [],
   "source": [
    "##Test your solution considering as an input the list below that contains an extraction of three articles\n",
    "articles = [['An Avro customer in a household using a typical amount of gas and electricity, who got a fixed rate deal in August, would have been paying £1,087 a year, according to price comparison site Uswitch. In March, they could have got a deal costing £920 a year.'],\n",
    "           ['But attention is increasingly falling on those who havent had it. Speculation has centred on which dancers on Strictly Come Dancing have so far not taken up the offer, as well as how many Premier League footballers are potentially unvaccinated.'],\n",
    "           ['Mrs Merkel has been proclaimed by Forbes as the most powerful woman in the world for 10 years running. There is a whole generation in Germany that has never known anything other than a woman leader. Her position has been symbolically important for womens representation, and she is known for bringing women into key positions. For example, she supported Ursula von der Leyen, the first female German defence minister and European Commission president.']]\n"
   ]
  },
  {
   "cell_type": "code",
   "execution_count": 2,
   "metadata": {},
   "outputs": [
    {
     "data": {
      "text/plain": [
       "<enumerate at 0x2688b8f6a40>"
      ]
     },
     "execution_count": 2,
     "metadata": {},
     "output_type": "execute_result"
    }
   ],
   "source": [
    "enumerate(articles)"
   ]
  },
  {
   "cell_type": "code",
   "execution_count": 79,
   "metadata": {},
   "outputs": [
    {
     "name": "stdout",
     "output_type": "stream",
     "text": [
      "In article 0 The keyword:  avro was found:  1\n",
      "In article 1 The keyword:  avro was found:  0\n",
      "In article 2 The keyword:  avro was found:  0\n"
     ]
    }
   ],
   "source": [
    "keyword =  'avro'\n",
    "##Your code:\n",
    "         for element,i in articles:\n",
    "            if element == keyword:\n",
    "                print(\"In article \" + i + \" The keyword:  avro was found:  \" + )"
   ]
  },
  {
   "cell_type": "code",
   "execution_count": null,
   "metadata": {},
   "outputs": [],
   "source": []
  },
  {
   "cell_type": "code",
   "execution_count": null,
   "metadata": {},
   "outputs": [],
   "source": []
  }
 ],
 "metadata": {
  "colab": {
   "collapsed_sections": [],
   "name": "SOLUTION Lab 1 Data Types and Operators .ipynb",
   "provenance": []
  },
  "kernelspec": {
   "display_name": "Python 3 (ipykernel)",
   "language": "python",
   "name": "python3"
  },
  "language_info": {
   "codemirror_mode": {
    "name": "ipython",
    "version": 3
   },
   "file_extension": ".py",
   "mimetype": "text/x-python",
   "name": "python",
   "nbconvert_exporter": "python",
   "pygments_lexer": "ipython3",
   "version": "3.8.11"
  }
 },
 "nbformat": 4,
 "nbformat_minor": 1
}
