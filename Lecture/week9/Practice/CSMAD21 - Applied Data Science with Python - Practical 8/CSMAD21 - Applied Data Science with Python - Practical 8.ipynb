{
 "cells": [
  {
   "cell_type": "markdown",
   "metadata": {},
   "source": [
    "# CSMAD21 - Applied Data Science with Python - Practical 8\n",
    "\n",
    "## Clustering\n",
    "\n",
    "Follow the instructions to complete each of these tasks. This set of exercises focuses on working with Python's Pandas library.\n",
    "\n",
    "**Questions marked with a * are extra challenging**\n",
    "\n",
    "The relevant materials for these exercises is lecture 15 - Clustering.\n",
    "\n",
    "This is not assessed but will help you gain practical experience for the exam and coursework.\n",
    "\n",
    "You will need to download some of the csv data set files from the module Blackboard page and place them in the same folder as this notebook. Run the cell below to load all of the necessary Python modules.\n",
    "\n"
   ]
  },
  {
   "cell_type": "markdown",
   "metadata": {},
   "source": [
    "### Clustering \n",
    "\n",
    "#### Dataset: Faithfull dataset \n",
    "Observations of the ‘Old faithful’ geyser in Yellowstone National Park. \n",
    " - Measurements of eruption time and waiting time since the previous eruption\n",
    "Source: Data taken from R statistical environment, Azzalini, A. and Bowman, A. W. (1990). A look at some data on the Old Faithful geyser. Applied Statistics, 39, 357–365.\n",
    "\n",
    "1. Perform the exploratory analysis of the data:\n",
    "    - How many variables?\n",
    "    - Characteristics of the variables?\n",
    "    - How many rows?\n",
    "    - How is the distribution of the variables (graph)? \n",
    "    \n",
    "__Note:__ Seaborn can be useful to generate graphs to analyse the relationship between the variables. \n",
    "\n",
    "2. Clustering analysis:\n",
    "    - Apply the clustering algorithms K-means and GMM to the data set under the following conditions:\n",
    "        - 2, 3 and 4 clusters\n",
    "        - Visualise the behaviour of the different clusters sets (you can use the functions defined in the Clustering Lecture). \n",
    "\n",
    "    - Identify the ideal number of cluster selection for K-means and GMM. Create a graph of each ideal cluster number set up for K-means and GMM. Compare and contrast.\n",
    "    - Normalise the data and analyse the impact"
   ]
  },
  {
   "cell_type": "code",
   "execution_count": null,
   "metadata": {},
   "outputs": [],
   "source": []
  }
 ],
 "metadata": {
  "kernelspec": {
   "display_name": "Python 3",
   "language": "python",
   "name": "python3"
  },
  "language_info": {
   "codemirror_mode": {
    "name": "ipython",
    "version": 3
   },
   "file_extension": ".py",
   "mimetype": "text/x-python",
   "name": "python",
   "nbconvert_exporter": "python",
   "pygments_lexer": "ipython3",
   "version": "3.8.8"
  }
 },
 "nbformat": 4,
 "nbformat_minor": 2
}
