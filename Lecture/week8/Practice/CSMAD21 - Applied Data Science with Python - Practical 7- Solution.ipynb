{
 "cells": [
  {
   "cell_type": "markdown",
   "metadata": {},
   "source": [
    "# CSMAD21 - Applied Data Science with Python - Practical 7\n",
    "\n",
    "## Networks\n",
    "\n",
    "Follow the instructions to complete each of these tasks. This set of exercises focuses on working with Python's networkx library.\n",
    "\n",
    "**Questions marked with a * are extra challenging**\n",
    "\n",
    "The relevant materials for these exercises is lecture 14.\n",
    "\n",
    "This is not assessed but will help you gain practical experience for the exam and coursework.\n",
    "\n",
    "You will need to download some of the csv data set files from the module Blackboard page and place them in the same folder as this notebook. Run the cell below to load all of the necessary Python modules.\n"
   ]
  },
  {
   "cell_type": "markdown",
   "metadata": {},
   "source": [
    "### Networks\n",
    "\n",
    "Load the network zebras with NetworkX and perform the following exploratory analysis:\n",
    "\n",
    "- 1.General info of the Network:\n",
    "    - 1.1.Number of Nodes\n",
    "    - 1.2.Number of Edges\n",
    "    - 1.3.Nodes\n",
    "    - 1.4.Edges\n",
    "\n",
    "- 2.Properties of the network:\n",
    "    - 2.1Degree (all the nodes)\n",
    "        - Min\n",
    "        - Max\n",
    "        - Avr\n",
    "    - 2.2.Connected components\n",
    "    - 2.3.Diameter\n",
    "    - 2.4.Shortest Path \n",
    "\n",
    "- 3.Draw the network\n",
    "\n",
    "- 4.Stats:\n",
    "    - 4.1.Degree Distribution\n",
    "    - 4.2.Cluster Coefficient\n",
    "    - 4.3.Betweenness Centrality\n",
    "    - 4.4.Assortativity\n",
    "    \n",
    "- 5.Manipulate the graph *\n",
    "    - 5.1.Remove all nodes with less than 4 edges\n",
    "    - 5.2.Plot the network and get the new Diameter. Compare these output with the ones obtained in points 2.3 and 3.\n",
    "    - Plot the graph with all nodes coloured in green and highlight the nodes with the fewest edges in red\n",
    "      (hint: nx.draw() method accepts an argument node_color that controls the plotting colour of each node)\n",
    "\n",
    "Draw some conclusions considering the data gattered before. \n"
   ]
  },
  {
   "cell_type": "markdown",
   "metadata": {},
   "source": [
    "### Solution"
   ]
  },
  {
   "cell_type": "code",
   "execution_count": 83,
   "metadata": {},
   "outputs": [],
   "source": [
    "%matplotlib inline\n",
    "import matplotlib.pyplot as plt\n",
    "import matplotlib as mpl\n",
    "import networkx as nx\n",
    "import numpy as np"
   ]
  },
  {
   "cell_type": "code",
   "execution_count": 84,
   "metadata": {},
   "outputs": [],
   "source": [
    "with open(\"Datasets/zebra.tsv\") as f:\n",
    "    el = (list(map(int,l.split())) for l in f)\n",
    "    zebra = nx.from_edgelist(el)\n",
    "g = zebra"
   ]
  },
  {
   "cell_type": "markdown",
   "metadata": {},
   "source": [
    "- 1.General info of the Network"
   ]
  },
  {
   "cell_type": "code",
   "execution_count": 85,
   "metadata": {},
   "outputs": [
    {
     "data": {
      "text/plain": [
       "(27, 111)"
      ]
     },
     "execution_count": 85,
     "metadata": {},
     "output_type": "execute_result"
    }
   ],
   "source": [
    "g.number_of_nodes(), g.number_of_edges() "
   ]
  },
  {
   "cell_type": "code",
   "execution_count": 86,
   "metadata": {},
   "outputs": [
    {
     "data": {
      "text/plain": [
       "NodeView((1, 2, 3, 4, 5, 6, 7, 8, 9, 10, 11, 12, 13, 14, 15, 16, 17, 22, 23, 18, 19, 20, 21, 24, 25, 26, 27))"
      ]
     },
     "execution_count": 86,
     "metadata": {},
     "output_type": "execute_result"
    }
   ],
   "source": [
    "g.nodes()"
   ]
  },
  {
   "cell_type": "code",
   "execution_count": 87,
   "metadata": {},
   "outputs": [
    {
     "data": {
      "text/plain": [
       "EdgeView([(1, 2), (1, 3), (1, 4), (1, 5), (1, 6), (1, 7), (1, 8), (1, 9), (1, 10), (1, 11), (1, 12), (1, 13), (1, 14), (2, 3), (2, 4), (2, 6), (2, 7), (2, 8), (2, 9), (2, 10), (2, 11), (2, 12), (2, 13), (2, 14), (2, 15), (3, 4), (3, 6), (3, 7), (3, 8), (3, 9), (3, 10), (3, 11), (3, 12), (3, 13), (3, 14), (3, 15), (4, 5), (4, 6), (4, 7), (4, 8), (4, 9), (4, 10), (4, 11), (4, 12), (4, 14), (4, 15), (5, 8), (6, 7), (6, 8), (6, 9), (6, 10), (6, 11), (6, 12), (6, 13), (6, 15), (7, 9), (7, 10), (7, 11), (7, 12), (7, 13), (7, 14), (7, 15), (8, 9), (8, 10), (8, 11), (8, 12), (8, 13), (8, 14), (8, 15), (9, 10), (9, 11), (9, 12), (9, 13), (9, 14), (9, 15), (10, 11), (10, 12), (10, 13), (10, 15), (10, 16), (11, 12), (11, 13), (11, 14), (11, 15), (12, 13), (12, 14), (12, 15), (13, 15), (13, 17), (13, 22), (13, 23), (14, 15), (14, 16), (16, 17), (16, 18), (16, 19), (16, 20), (16, 21), (17, 18), (17, 22), (17, 23), (22, 23), (19, 20), (19, 21), (20, 21), (24, 25), (24, 26), (24, 27), (25, 26), (25, 27), (26, 27)])"
      ]
     },
     "execution_count": 87,
     "metadata": {},
     "output_type": "execute_result"
    }
   ],
   "source": [
    "g.edges()"
   ]
  },
  {
   "cell_type": "markdown",
   "metadata": {},
   "source": [
    "- 2.Properties of the network."
   ]
  },
  {
   "cell_type": "code",
   "execution_count": 88,
   "metadata": {},
   "outputs": [
    {
     "data": {
      "text/plain": [
       "13"
      ]
     },
     "execution_count": 88,
     "metadata": {},
     "output_type": "execute_result"
    }
   ],
   "source": [
    "## Degree of a particular node\n",
    "nx.degree(g,1) "
   ]
  },
  {
   "cell_type": "code",
   "execution_count": 89,
   "metadata": {},
   "outputs": [
    {
     "data": {
      "text/plain": [
       "[13,\n",
       " 13,\n",
       " 13,\n",
       " 13,\n",
       " 3,\n",
       " 12,\n",
       " 12,\n",
       " 13,\n",
       " 13,\n",
       " 13,\n",
       " 13,\n",
       " 13,\n",
       " 14,\n",
       " 11,\n",
       " 12,\n",
       " 7,\n",
       " 5,\n",
       " 3,\n",
       " 3,\n",
       " 2,\n",
       " 3,\n",
       " 3,\n",
       " 3,\n",
       " 3,\n",
       " 3,\n",
       " 3,\n",
       " 3]"
      ]
     },
     "execution_count": 89,
     "metadata": {},
     "output_type": "execute_result"
    }
   ],
   "source": [
    "degrees = []\n",
    "\n",
    "for n in g.nodes(): \n",
    "    degrees.append(nx.degree(g,n))\n",
    "degrees    "
   ]
  },
  {
   "cell_type": "code",
   "execution_count": 90,
   "metadata": {},
   "outputs": [
    {
     "name": "stdout",
     "output_type": "stream",
     "text": [
      "14\n",
      "2\n"
     ]
    }
   ],
   "source": [
    "print(max(degrees))\n",
    "print(min(degrees))"
   ]
  },
  {
   "cell_type": "code",
   "execution_count": 91,
   "metadata": {},
   "outputs": [
    {
     "data": {
      "text/plain": [
       "8.222222222222221"
      ]
     },
     "execution_count": 91,
     "metadata": {},
     "output_type": "execute_result"
    }
   ],
   "source": [
    "sum(degrees)/len(degrees) # 5.13"
   ]
  },
  {
   "cell_type": "code",
   "execution_count": 92,
   "metadata": {},
   "outputs": [
    {
     "data": {
      "text/plain": [
       "2"
      ]
     },
     "execution_count": 92,
     "metadata": {},
     "output_type": "execute_result"
    }
   ],
   "source": [
    "## Connected Components\n",
    "nx.number_connected_components(g) "
   ]
  },
  {
   "cell_type": "code",
   "execution_count": 93,
   "metadata": {},
   "outputs": [
    {
     "ename": "NetworkXError",
     "evalue": "Found infinite path length because the graph is not connected",
     "output_type": "error",
     "traceback": [
      "\u001b[1;31m---------------------------------------------------------------------------\u001b[0m",
      "\u001b[1;31mNetworkXError\u001b[0m                             Traceback (most recent call last)",
      "\u001b[1;32m<ipython-input-93-1acc25b7e942>\u001b[0m in \u001b[0;36m<module>\u001b[1;34m\u001b[0m\n\u001b[0;32m      1\u001b[0m \u001b[1;31m## Diameter\u001b[0m\u001b[1;33m\u001b[0m\u001b[1;33m\u001b[0m\u001b[1;33m\u001b[0m\u001b[0m\n\u001b[1;32m----> 2\u001b[1;33m \u001b[0mnx\u001b[0m\u001b[1;33m.\u001b[0m\u001b[0mdiameter\u001b[0m\u001b[1;33m(\u001b[0m\u001b[0mg\u001b[0m\u001b[1;33m)\u001b[0m\u001b[1;33m\u001b[0m\u001b[1;33m\u001b[0m\u001b[0m\n\u001b[0m",
      "\u001b[1;32m~\\anaconda3\\envs\\base2\\lib\\site-packages\\networkx\\algorithms\\distance_measures.py\u001b[0m in \u001b[0;36mdiameter\u001b[1;34m(G, e, usebounds)\u001b[0m\n\u001b[0;32m    297\u001b[0m         \u001b[1;32mreturn\u001b[0m \u001b[0mextrema_bounding\u001b[0m\u001b[1;33m(\u001b[0m\u001b[0mG\u001b[0m\u001b[1;33m,\u001b[0m \u001b[0mcompute\u001b[0m\u001b[1;33m=\u001b[0m\u001b[1;34m\"diameter\"\u001b[0m\u001b[1;33m)\u001b[0m\u001b[1;33m\u001b[0m\u001b[1;33m\u001b[0m\u001b[0m\n\u001b[0;32m    298\u001b[0m     \u001b[1;32mif\u001b[0m \u001b[0me\u001b[0m \u001b[1;32mis\u001b[0m \u001b[1;32mNone\u001b[0m\u001b[1;33m:\u001b[0m\u001b[1;33m\u001b[0m\u001b[1;33m\u001b[0m\u001b[0m\n\u001b[1;32m--> 299\u001b[1;33m         \u001b[0me\u001b[0m \u001b[1;33m=\u001b[0m \u001b[0meccentricity\u001b[0m\u001b[1;33m(\u001b[0m\u001b[0mG\u001b[0m\u001b[1;33m)\u001b[0m\u001b[1;33m\u001b[0m\u001b[1;33m\u001b[0m\u001b[0m\n\u001b[0m\u001b[0;32m    300\u001b[0m     \u001b[1;32mreturn\u001b[0m \u001b[0mmax\u001b[0m\u001b[1;33m(\u001b[0m\u001b[0me\u001b[0m\u001b[1;33m.\u001b[0m\u001b[0mvalues\u001b[0m\u001b[1;33m(\u001b[0m\u001b[1;33m)\u001b[0m\u001b[1;33m)\u001b[0m\u001b[1;33m\u001b[0m\u001b[1;33m\u001b[0m\u001b[0m\n\u001b[0;32m    301\u001b[0m \u001b[1;33m\u001b[0m\u001b[0m\n",
      "\u001b[1;32m~\\anaconda3\\envs\\base2\\lib\\site-packages\\networkx\\algorithms\\distance_measures.py\u001b[0m in \u001b[0;36meccentricity\u001b[1;34m(G, v, sp)\u001b[0m\n\u001b[0;32m    262\u001b[0m             \u001b[1;32melse\u001b[0m\u001b[1;33m:\u001b[0m\u001b[1;33m\u001b[0m\u001b[1;33m\u001b[0m\u001b[0m\n\u001b[0;32m    263\u001b[0m                 \u001b[0mmsg\u001b[0m \u001b[1;33m=\u001b[0m \u001b[1;34m\"Found infinite path length because the graph is not\"\u001b[0m \u001b[1;34m\" connected\"\u001b[0m\u001b[1;33m\u001b[0m\u001b[1;33m\u001b[0m\u001b[0m\n\u001b[1;32m--> 264\u001b[1;33m             \u001b[1;32mraise\u001b[0m \u001b[0mnx\u001b[0m\u001b[1;33m.\u001b[0m\u001b[0mNetworkXError\u001b[0m\u001b[1;33m(\u001b[0m\u001b[0mmsg\u001b[0m\u001b[1;33m)\u001b[0m\u001b[1;33m\u001b[0m\u001b[1;33m\u001b[0m\u001b[0m\n\u001b[0m\u001b[0;32m    265\u001b[0m \u001b[1;33m\u001b[0m\u001b[0m\n\u001b[0;32m    266\u001b[0m         \u001b[0me\u001b[0m\u001b[1;33m[\u001b[0m\u001b[0mn\u001b[0m\u001b[1;33m]\u001b[0m \u001b[1;33m=\u001b[0m \u001b[0mmax\u001b[0m\u001b[1;33m(\u001b[0m\u001b[0mlength\u001b[0m\u001b[1;33m.\u001b[0m\u001b[0mvalues\u001b[0m\u001b[1;33m(\u001b[0m\u001b[1;33m)\u001b[0m\u001b[1;33m)\u001b[0m\u001b[1;33m\u001b[0m\u001b[1;33m\u001b[0m\u001b[0m\n",
      "\u001b[1;31mNetworkXError\u001b[0m: Found infinite path length because the graph is not connected"
     ]
    }
   ],
   "source": [
    "## Diameter\n",
    "nx.diameter(g) "
   ]
  },
  {
   "cell_type": "code",
   "execution_count": 94,
   "metadata": {},
   "outputs": [
    {
     "data": {
      "text/plain": [
       "{1: {1: [1],\n",
       "  2: [1, 2],\n",
       "  3: [1, 3],\n",
       "  4: [1, 4],\n",
       "  5: [1, 5],\n",
       "  6: [1, 6],\n",
       "  7: [1, 7],\n",
       "  8: [1, 8],\n",
       "  9: [1, 9],\n",
       "  10: [1, 10],\n",
       "  11: [1, 11],\n",
       "  12: [1, 12],\n",
       "  13: [1, 13],\n",
       "  14: [1, 14],\n",
       "  15: [1, 2, 15],\n",
       "  16: [1, 10, 16],\n",
       "  17: [1, 13, 17],\n",
       "  22: [1, 13, 22],\n",
       "  23: [1, 13, 23],\n",
       "  18: [1, 10, 16, 18],\n",
       "  19: [1, 10, 16, 19],\n",
       "  20: [1, 10, 16, 20],\n",
       "  21: [1, 10, 16, 21]},\n",
       " 2: {2: [2],\n",
       "  1: [2, 1],\n",
       "  3: [2, 3],\n",
       "  4: [2, 4],\n",
       "  6: [2, 6],\n",
       "  7: [2, 7],\n",
       "  8: [2, 8],\n",
       "  9: [2, 9],\n",
       "  10: [2, 10],\n",
       "  11: [2, 11],\n",
       "  12: [2, 12],\n",
       "  13: [2, 13],\n",
       "  14: [2, 14],\n",
       "  15: [2, 15],\n",
       "  5: [2, 1, 5],\n",
       "  16: [2, 10, 16],\n",
       "  17: [2, 13, 17],\n",
       "  22: [2, 13, 22],\n",
       "  23: [2, 13, 23],\n",
       "  18: [2, 10, 16, 18],\n",
       "  19: [2, 10, 16, 19],\n",
       "  20: [2, 10, 16, 20],\n",
       "  21: [2, 10, 16, 21]},\n",
       " 3: {3: [3],\n",
       "  1: [3, 1],\n",
       "  2: [3, 2],\n",
       "  4: [3, 4],\n",
       "  6: [3, 6],\n",
       "  7: [3, 7],\n",
       "  8: [3, 8],\n",
       "  9: [3, 9],\n",
       "  10: [3, 10],\n",
       "  11: [3, 11],\n",
       "  12: [3, 12],\n",
       "  13: [3, 13],\n",
       "  14: [3, 14],\n",
       "  15: [3, 15],\n",
       "  5: [3, 1, 5],\n",
       "  16: [3, 10, 16],\n",
       "  17: [3, 13, 17],\n",
       "  22: [3, 13, 22],\n",
       "  23: [3, 13, 23],\n",
       "  18: [3, 10, 16, 18],\n",
       "  19: [3, 10, 16, 19],\n",
       "  20: [3, 10, 16, 20],\n",
       "  21: [3, 10, 16, 21]},\n",
       " 4: {4: [4],\n",
       "  1: [4, 1],\n",
       "  2: [4, 2],\n",
       "  3: [4, 3],\n",
       "  5: [4, 5],\n",
       "  6: [4, 6],\n",
       "  7: [4, 7],\n",
       "  8: [4, 8],\n",
       "  9: [4, 9],\n",
       "  10: [4, 10],\n",
       "  11: [4, 11],\n",
       "  12: [4, 12],\n",
       "  14: [4, 14],\n",
       "  15: [4, 15],\n",
       "  13: [4, 1, 13],\n",
       "  16: [4, 10, 16],\n",
       "  17: [4, 1, 13, 17],\n",
       "  22: [4, 1, 13, 22],\n",
       "  23: [4, 1, 13, 23],\n",
       "  18: [4, 10, 16, 18],\n",
       "  19: [4, 10, 16, 19],\n",
       "  20: [4, 10, 16, 20],\n",
       "  21: [4, 10, 16, 21]},\n",
       " 5: {5: [5],\n",
       "  1: [5, 1],\n",
       "  4: [5, 4],\n",
       "  8: [5, 8],\n",
       "  2: [5, 1, 2],\n",
       "  3: [5, 1, 3],\n",
       "  6: [5, 1, 6],\n",
       "  7: [5, 1, 7],\n",
       "  9: [5, 1, 9],\n",
       "  10: [5, 1, 10],\n",
       "  11: [5, 1, 11],\n",
       "  12: [5, 1, 12],\n",
       "  13: [5, 1, 13],\n",
       "  14: [5, 1, 14],\n",
       "  15: [5, 4, 15],\n",
       "  16: [5, 1, 10, 16],\n",
       "  17: [5, 1, 13, 17],\n",
       "  22: [5, 1, 13, 22],\n",
       "  23: [5, 1, 13, 23],\n",
       "  18: [5, 1, 10, 16, 18],\n",
       "  19: [5, 1, 10, 16, 19],\n",
       "  20: [5, 1, 10, 16, 20],\n",
       "  21: [5, 1, 10, 16, 21]},\n",
       " 6: {6: [6],\n",
       "  1: [6, 1],\n",
       "  2: [6, 2],\n",
       "  3: [6, 3],\n",
       "  4: [6, 4],\n",
       "  7: [6, 7],\n",
       "  8: [6, 8],\n",
       "  9: [6, 9],\n",
       "  10: [6, 10],\n",
       "  11: [6, 11],\n",
       "  12: [6, 12],\n",
       "  13: [6, 13],\n",
       "  15: [6, 15],\n",
       "  5: [6, 1, 5],\n",
       "  14: [6, 1, 14],\n",
       "  16: [6, 10, 16],\n",
       "  17: [6, 13, 17],\n",
       "  22: [6, 13, 22],\n",
       "  23: [6, 13, 23],\n",
       "  18: [6, 10, 16, 18],\n",
       "  19: [6, 10, 16, 19],\n",
       "  20: [6, 10, 16, 20],\n",
       "  21: [6, 10, 16, 21]},\n",
       " 7: {7: [7],\n",
       "  1: [7, 1],\n",
       "  2: [7, 2],\n",
       "  3: [7, 3],\n",
       "  4: [7, 4],\n",
       "  6: [7, 6],\n",
       "  9: [7, 9],\n",
       "  10: [7, 10],\n",
       "  11: [7, 11],\n",
       "  12: [7, 12],\n",
       "  13: [7, 13],\n",
       "  14: [7, 14],\n",
       "  15: [7, 15],\n",
       "  5: [7, 1, 5],\n",
       "  8: [7, 1, 8],\n",
       "  16: [7, 10, 16],\n",
       "  17: [7, 13, 17],\n",
       "  22: [7, 13, 22],\n",
       "  23: [7, 13, 23],\n",
       "  18: [7, 10, 16, 18],\n",
       "  19: [7, 10, 16, 19],\n",
       "  20: [7, 10, 16, 20],\n",
       "  21: [7, 10, 16, 21]},\n",
       " 8: {8: [8],\n",
       "  1: [8, 1],\n",
       "  2: [8, 2],\n",
       "  3: [8, 3],\n",
       "  4: [8, 4],\n",
       "  5: [8, 5],\n",
       "  6: [8, 6],\n",
       "  9: [8, 9],\n",
       "  10: [8, 10],\n",
       "  11: [8, 11],\n",
       "  12: [8, 12],\n",
       "  13: [8, 13],\n",
       "  14: [8, 14],\n",
       "  15: [8, 15],\n",
       "  7: [8, 1, 7],\n",
       "  16: [8, 10, 16],\n",
       "  17: [8, 13, 17],\n",
       "  22: [8, 13, 22],\n",
       "  23: [8, 13, 23],\n",
       "  18: [8, 10, 16, 18],\n",
       "  19: [8, 10, 16, 19],\n",
       "  20: [8, 10, 16, 20],\n",
       "  21: [8, 10, 16, 21]},\n",
       " 9: {9: [9],\n",
       "  1: [9, 1],\n",
       "  2: [9, 2],\n",
       "  3: [9, 3],\n",
       "  4: [9, 4],\n",
       "  6: [9, 6],\n",
       "  7: [9, 7],\n",
       "  8: [9, 8],\n",
       "  10: [9, 10],\n",
       "  11: [9, 11],\n",
       "  12: [9, 12],\n",
       "  13: [9, 13],\n",
       "  14: [9, 14],\n",
       "  15: [9, 15],\n",
       "  5: [9, 1, 5],\n",
       "  16: [9, 10, 16],\n",
       "  17: [9, 13, 17],\n",
       "  22: [9, 13, 22],\n",
       "  23: [9, 13, 23],\n",
       "  18: [9, 10, 16, 18],\n",
       "  19: [9, 10, 16, 19],\n",
       "  20: [9, 10, 16, 20],\n",
       "  21: [9, 10, 16, 21]},\n",
       " 10: {10: [10],\n",
       "  1: [10, 1],\n",
       "  2: [10, 2],\n",
       "  3: [10, 3],\n",
       "  4: [10, 4],\n",
       "  6: [10, 6],\n",
       "  7: [10, 7],\n",
       "  8: [10, 8],\n",
       "  9: [10, 9],\n",
       "  11: [10, 11],\n",
       "  12: [10, 12],\n",
       "  13: [10, 13],\n",
       "  15: [10, 15],\n",
       "  16: [10, 16],\n",
       "  5: [10, 1, 5],\n",
       "  14: [10, 1, 14],\n",
       "  17: [10, 13, 17],\n",
       "  22: [10, 13, 22],\n",
       "  23: [10, 13, 23],\n",
       "  18: [10, 16, 18],\n",
       "  19: [10, 16, 19],\n",
       "  20: [10, 16, 20],\n",
       "  21: [10, 16, 21]},\n",
       " 11: {11: [11],\n",
       "  1: [11, 1],\n",
       "  2: [11, 2],\n",
       "  3: [11, 3],\n",
       "  4: [11, 4],\n",
       "  6: [11, 6],\n",
       "  7: [11, 7],\n",
       "  8: [11, 8],\n",
       "  9: [11, 9],\n",
       "  10: [11, 10],\n",
       "  12: [11, 12],\n",
       "  13: [11, 13],\n",
       "  14: [11, 14],\n",
       "  15: [11, 15],\n",
       "  5: [11, 1, 5],\n",
       "  16: [11, 10, 16],\n",
       "  17: [11, 13, 17],\n",
       "  22: [11, 13, 22],\n",
       "  23: [11, 13, 23],\n",
       "  18: [11, 10, 16, 18],\n",
       "  19: [11, 10, 16, 19],\n",
       "  20: [11, 10, 16, 20],\n",
       "  21: [11, 10, 16, 21]},\n",
       " 12: {12: [12],\n",
       "  1: [12, 1],\n",
       "  2: [12, 2],\n",
       "  3: [12, 3],\n",
       "  4: [12, 4],\n",
       "  6: [12, 6],\n",
       "  7: [12, 7],\n",
       "  8: [12, 8],\n",
       "  9: [12, 9],\n",
       "  10: [12, 10],\n",
       "  11: [12, 11],\n",
       "  13: [12, 13],\n",
       "  14: [12, 14],\n",
       "  15: [12, 15],\n",
       "  5: [12, 1, 5],\n",
       "  16: [12, 10, 16],\n",
       "  17: [12, 13, 17],\n",
       "  22: [12, 13, 22],\n",
       "  23: [12, 13, 23],\n",
       "  18: [12, 10, 16, 18],\n",
       "  19: [12, 10, 16, 19],\n",
       "  20: [12, 10, 16, 20],\n",
       "  21: [12, 10, 16, 21]},\n",
       " 13: {13: [13],\n",
       "  1: [13, 1],\n",
       "  2: [13, 2],\n",
       "  3: [13, 3],\n",
       "  6: [13, 6],\n",
       "  7: [13, 7],\n",
       "  8: [13, 8],\n",
       "  9: [13, 9],\n",
       "  10: [13, 10],\n",
       "  11: [13, 11],\n",
       "  12: [13, 12],\n",
       "  15: [13, 15],\n",
       "  17: [13, 17],\n",
       "  22: [13, 22],\n",
       "  23: [13, 23],\n",
       "  4: [13, 1, 4],\n",
       "  5: [13, 1, 5],\n",
       "  14: [13, 1, 14],\n",
       "  16: [13, 10, 16],\n",
       "  18: [13, 17, 18],\n",
       "  19: [13, 10, 16, 19],\n",
       "  20: [13, 10, 16, 20],\n",
       "  21: [13, 10, 16, 21]},\n",
       " 14: {14: [14],\n",
       "  1: [14, 1],\n",
       "  2: [14, 2],\n",
       "  3: [14, 3],\n",
       "  4: [14, 4],\n",
       "  7: [14, 7],\n",
       "  8: [14, 8],\n",
       "  9: [14, 9],\n",
       "  11: [14, 11],\n",
       "  12: [14, 12],\n",
       "  15: [14, 15],\n",
       "  16: [14, 16],\n",
       "  5: [14, 1, 5],\n",
       "  6: [14, 1, 6],\n",
       "  10: [14, 1, 10],\n",
       "  13: [14, 1, 13],\n",
       "  17: [14, 16, 17],\n",
       "  18: [14, 16, 18],\n",
       "  19: [14, 16, 19],\n",
       "  20: [14, 16, 20],\n",
       "  21: [14, 16, 21],\n",
       "  22: [14, 1, 13, 22],\n",
       "  23: [14, 1, 13, 23]},\n",
       " 15: {15: [15],\n",
       "  2: [15, 2],\n",
       "  3: [15, 3],\n",
       "  4: [15, 4],\n",
       "  6: [15, 6],\n",
       "  7: [15, 7],\n",
       "  8: [15, 8],\n",
       "  9: [15, 9],\n",
       "  10: [15, 10],\n",
       "  11: [15, 11],\n",
       "  12: [15, 12],\n",
       "  13: [15, 13],\n",
       "  14: [15, 14],\n",
       "  1: [15, 2, 1],\n",
       "  5: [15, 4, 5],\n",
       "  16: [15, 10, 16],\n",
       "  17: [15, 13, 17],\n",
       "  22: [15, 13, 22],\n",
       "  23: [15, 13, 23],\n",
       "  18: [15, 10, 16, 18],\n",
       "  19: [15, 10, 16, 19],\n",
       "  20: [15, 10, 16, 20],\n",
       "  21: [15, 10, 16, 21]},\n",
       " 16: {16: [16],\n",
       "  10: [16, 10],\n",
       "  14: [16, 14],\n",
       "  17: [16, 17],\n",
       "  18: [16, 18],\n",
       "  19: [16, 19],\n",
       "  20: [16, 20],\n",
       "  21: [16, 21],\n",
       "  1: [16, 10, 1],\n",
       "  2: [16, 10, 2],\n",
       "  3: [16, 10, 3],\n",
       "  4: [16, 10, 4],\n",
       "  6: [16, 10, 6],\n",
       "  7: [16, 10, 7],\n",
       "  8: [16, 10, 8],\n",
       "  9: [16, 10, 9],\n",
       "  11: [16, 10, 11],\n",
       "  12: [16, 10, 12],\n",
       "  13: [16, 10, 13],\n",
       "  15: [16, 10, 15],\n",
       "  22: [16, 17, 22],\n",
       "  23: [16, 17, 23],\n",
       "  5: [16, 10, 1, 5]},\n",
       " 17: {17: [17],\n",
       "  13: [17, 13],\n",
       "  16: [17, 16],\n",
       "  18: [17, 18],\n",
       "  22: [17, 22],\n",
       "  23: [17, 23],\n",
       "  1: [17, 13, 1],\n",
       "  2: [17, 13, 2],\n",
       "  3: [17, 13, 3],\n",
       "  6: [17, 13, 6],\n",
       "  7: [17, 13, 7],\n",
       "  8: [17, 13, 8],\n",
       "  9: [17, 13, 9],\n",
       "  10: [17, 13, 10],\n",
       "  11: [17, 13, 11],\n",
       "  12: [17, 13, 12],\n",
       "  15: [17, 13, 15],\n",
       "  14: [17, 16, 14],\n",
       "  19: [17, 16, 19],\n",
       "  20: [17, 16, 20],\n",
       "  21: [17, 16, 21],\n",
       "  4: [17, 13, 1, 4],\n",
       "  5: [17, 13, 1, 5]},\n",
       " 22: {22: [22],\n",
       "  13: [22, 13],\n",
       "  17: [22, 17],\n",
       "  23: [22, 23],\n",
       "  1: [22, 13, 1],\n",
       "  2: [22, 13, 2],\n",
       "  3: [22, 13, 3],\n",
       "  6: [22, 13, 6],\n",
       "  7: [22, 13, 7],\n",
       "  8: [22, 13, 8],\n",
       "  9: [22, 13, 9],\n",
       "  10: [22, 13, 10],\n",
       "  11: [22, 13, 11],\n",
       "  12: [22, 13, 12],\n",
       "  15: [22, 13, 15],\n",
       "  16: [22, 17, 16],\n",
       "  18: [22, 17, 18],\n",
       "  4: [22, 13, 1, 4],\n",
       "  5: [22, 13, 1, 5],\n",
       "  14: [22, 13, 1, 14],\n",
       "  19: [22, 17, 16, 19],\n",
       "  20: [22, 17, 16, 20],\n",
       "  21: [22, 17, 16, 21]},\n",
       " 23: {23: [23],\n",
       "  13: [23, 13],\n",
       "  17: [23, 17],\n",
       "  22: [23, 22],\n",
       "  1: [23, 13, 1],\n",
       "  2: [23, 13, 2],\n",
       "  3: [23, 13, 3],\n",
       "  6: [23, 13, 6],\n",
       "  7: [23, 13, 7],\n",
       "  8: [23, 13, 8],\n",
       "  9: [23, 13, 9],\n",
       "  10: [23, 13, 10],\n",
       "  11: [23, 13, 11],\n",
       "  12: [23, 13, 12],\n",
       "  15: [23, 13, 15],\n",
       "  16: [23, 17, 16],\n",
       "  18: [23, 17, 18],\n",
       "  4: [23, 13, 1, 4],\n",
       "  5: [23, 13, 1, 5],\n",
       "  14: [23, 13, 1, 14],\n",
       "  19: [23, 17, 16, 19],\n",
       "  20: [23, 17, 16, 20],\n",
       "  21: [23, 17, 16, 21]},\n",
       " 18: {18: [18],\n",
       "  16: [18, 16],\n",
       "  17: [18, 17],\n",
       "  10: [18, 16, 10],\n",
       "  14: [18, 16, 14],\n",
       "  19: [18, 16, 19],\n",
       "  20: [18, 16, 20],\n",
       "  21: [18, 16, 21],\n",
       "  13: [18, 17, 13],\n",
       "  22: [18, 17, 22],\n",
       "  23: [18, 17, 23],\n",
       "  1: [18, 16, 10, 1],\n",
       "  2: [18, 16, 10, 2],\n",
       "  3: [18, 16, 10, 3],\n",
       "  4: [18, 16, 10, 4],\n",
       "  6: [18, 16, 10, 6],\n",
       "  7: [18, 16, 10, 7],\n",
       "  8: [18, 16, 10, 8],\n",
       "  9: [18, 16, 10, 9],\n",
       "  11: [18, 16, 10, 11],\n",
       "  12: [18, 16, 10, 12],\n",
       "  15: [18, 16, 10, 15],\n",
       "  5: [18, 16, 10, 1, 5]},\n",
       " 19: {19: [19],\n",
       "  16: [19, 16],\n",
       "  20: [19, 20],\n",
       "  21: [19, 21],\n",
       "  10: [19, 16, 10],\n",
       "  14: [19, 16, 14],\n",
       "  17: [19, 16, 17],\n",
       "  18: [19, 16, 18],\n",
       "  1: [19, 16, 10, 1],\n",
       "  2: [19, 16, 10, 2],\n",
       "  3: [19, 16, 10, 3],\n",
       "  4: [19, 16, 10, 4],\n",
       "  6: [19, 16, 10, 6],\n",
       "  7: [19, 16, 10, 7],\n",
       "  8: [19, 16, 10, 8],\n",
       "  9: [19, 16, 10, 9],\n",
       "  11: [19, 16, 10, 11],\n",
       "  12: [19, 16, 10, 12],\n",
       "  13: [19, 16, 10, 13],\n",
       "  15: [19, 16, 10, 15],\n",
       "  22: [19, 16, 17, 22],\n",
       "  23: [19, 16, 17, 23],\n",
       "  5: [19, 16, 10, 1, 5]},\n",
       " 20: {20: [20],\n",
       "  16: [20, 16],\n",
       "  19: [20, 19],\n",
       "  21: [20, 21],\n",
       "  10: [20, 16, 10],\n",
       "  14: [20, 16, 14],\n",
       "  17: [20, 16, 17],\n",
       "  18: [20, 16, 18],\n",
       "  1: [20, 16, 10, 1],\n",
       "  2: [20, 16, 10, 2],\n",
       "  3: [20, 16, 10, 3],\n",
       "  4: [20, 16, 10, 4],\n",
       "  6: [20, 16, 10, 6],\n",
       "  7: [20, 16, 10, 7],\n",
       "  8: [20, 16, 10, 8],\n",
       "  9: [20, 16, 10, 9],\n",
       "  11: [20, 16, 10, 11],\n",
       "  12: [20, 16, 10, 12],\n",
       "  13: [20, 16, 10, 13],\n",
       "  15: [20, 16, 10, 15],\n",
       "  22: [20, 16, 17, 22],\n",
       "  23: [20, 16, 17, 23],\n",
       "  5: [20, 16, 10, 1, 5]},\n",
       " 21: {21: [21],\n",
       "  16: [21, 16],\n",
       "  19: [21, 19],\n",
       "  20: [21, 20],\n",
       "  10: [21, 16, 10],\n",
       "  14: [21, 16, 14],\n",
       "  17: [21, 16, 17],\n",
       "  18: [21, 16, 18],\n",
       "  1: [21, 16, 10, 1],\n",
       "  2: [21, 16, 10, 2],\n",
       "  3: [21, 16, 10, 3],\n",
       "  4: [21, 16, 10, 4],\n",
       "  6: [21, 16, 10, 6],\n",
       "  7: [21, 16, 10, 7],\n",
       "  8: [21, 16, 10, 8],\n",
       "  9: [21, 16, 10, 9],\n",
       "  11: [21, 16, 10, 11],\n",
       "  12: [21, 16, 10, 12],\n",
       "  13: [21, 16, 10, 13],\n",
       "  15: [21, 16, 10, 15],\n",
       "  22: [21, 16, 17, 22],\n",
       "  23: [21, 16, 17, 23],\n",
       "  5: [21, 16, 10, 1, 5]},\n",
       " 24: {24: [24], 25: [24, 25], 26: [24, 26], 27: [24, 27]},\n",
       " 25: {25: [25], 24: [25, 24], 26: [25, 26], 27: [25, 27]},\n",
       " 26: {26: [26], 24: [26, 24], 25: [26, 25], 27: [26, 27]},\n",
       " 27: {27: [27], 24: [27, 24], 25: [27, 25], 26: [27, 26]}}"
      ]
     },
     "execution_count": 94,
     "metadata": {},
     "output_type": "execute_result"
    }
   ],
   "source": [
    "##Shortest Path\n",
    "nx.shortest_path(g)"
   ]
  },
  {
   "cell_type": "markdown",
   "metadata": {},
   "source": [
    "- 3.Draw the network"
   ]
  },
  {
   "cell_type": "code",
   "execution_count": 95,
   "metadata": {},
   "outputs": [
    {
     "data": {
      "image/png": "[encoded data removed]",
      "text/plain": [
       "<Figure size 432x288 with 1 Axes>"
      ]
     },
     "metadata": {},
     "output_type": "display_data"
    }
   ],
   "source": [
    "G=g\n",
    "layout = nx.spring_layout(G)\n",
    "nx.draw(G,pos=layout,node_size=150,alpha=0.5)"
   ]
  },
  {
   "cell_type": "markdown",
   "metadata": {},
   "source": [
    "- 4.Stats"
   ]
  },
  {
   "cell_type": "code",
   "execution_count": 96,
   "metadata": {},
   "outputs": [
    {
     "data": {
      "text/plain": [
       "Text(0, 0.5, 'Frequency')"
      ]
     },
     "execution_count": 96,
     "metadata": {},
     "output_type": "execute_result"
    },
    {
     "data": {
      "image/png": "[encoded data removed]",
      "text/plain": [
       "<Figure size 432x288 with 1 Axes>"
      ]
     },
     "metadata": {
      "needs_background": "light"
     },
     "output_type": "display_data"
    }
   ],
   "source": [
    "## Degree Distribution\n",
    "%matplotlib inline\n",
    "import matplotlib.pyplot as plt\n",
    "import matplotlib as mpl\n",
    "\n",
    "plt.bar(range(0,len(nx.degree_histogram(g))),nx.degree_histogram(g))\n",
    "plt.xlabel(\"Degree\")\n",
    "plt.ylabel(\"Frequency\")"
   ]
  },
  {
   "cell_type": "code",
   "execution_count": 97,
   "metadata": {},
   "outputs": [
    {
     "data": {
      "text/plain": [
       "{1: 0.8076923076923077,\n",
       " 2: 0.9230769230769231,\n",
       " 3: 0.9230769230769231,\n",
       " 4: 0.8205128205128205,\n",
       " 5: 1.0,\n",
       " 6: 0.9545454545454546,\n",
       " 7: 0.9242424242424242,\n",
       " 8: 0.8076923076923077,\n",
       " 9: 0.9230769230769231,\n",
       " 10: 0.8076923076923077,\n",
       " 11: 0.9230769230769231,\n",
       " 12: 0.9230769230769231,\n",
       " 13: 0.6153846153846154,\n",
       " 14: 0.7818181818181819,\n",
       " 15: 0.9242424242424242,\n",
       " 16: 0.19047619047619047,\n",
       " 17: 0.4,\n",
       " 22: 1.0,\n",
       " 23: 1.0,\n",
       " 18: 1.0,\n",
       " 19: 1.0,\n",
       " 20: 1.0,\n",
       " 21: 1.0,\n",
       " 24: 1.0,\n",
       " 25: 1.0,\n",
       " 26: 1.0,\n",
       " 27: 1.0}"
      ]
     },
     "execution_count": 97,
     "metadata": {},
     "output_type": "execute_result"
    }
   ],
   "source": [
    "##Cluster Coefficient\n",
    "cc = nx.clustering(g)\n",
    "cc"
   ]
  },
  {
   "cell_type": "code",
   "execution_count": 98,
   "metadata": {},
   "outputs": [
    {
     "data": {
      "text/plain": [
       "Text(0.5, 0, 'Clustering coeff.')"
      ]
     },
     "execution_count": 98,
     "metadata": {},
     "output_type": "execute_result"
    },
    {
     "data": {
      "image/png": "[encoded data removed]",
      "text/plain": [
       "<Figure size 432x288 with 1 Axes>"
      ]
     },
     "metadata": {
      "needs_background": "light"
     },
     "output_type": "display_data"
    }
   ],
   "source": [
    "plt.hist(list(cc.values()),bins=7)\n",
    "plt.ylabel(\"Frequency\")\n",
    "plt.xlabel(\"Clustering coeff.\")"
   ]
  },
  {
   "cell_type": "code",
   "execution_count": 99,
   "metadata": {},
   "outputs": [
    {
     "data": {
      "text/plain": [
       "{1: 0.024030781184627346,\n",
       " 2: 0.0031333452871914413,\n",
       " 3: 0.0031333452871914413,\n",
       " 4: 0.017254079254079256,\n",
       " 5: 0.0,\n",
       " 6: 0.0015886677425138967,\n",
       " 7: 0.002876935030781184,\n",
       " 8: 0.024030781184627346,\n",
       " 9: 0.0031333452871914413,\n",
       " 10: 0.10144073874843107,\n",
       " 11: 0.0031333452871914413,\n",
       " 12: 0.0031333452871914413,\n",
       " 13: 0.13557790927021696,\n",
       " 14: 0.08036489151873767,\n",
       " 15: 0.0028769350307811846,\n",
       " 16: 0.21290693921463152,\n",
       " 17: 0.052153846153846155,\n",
       " 22: 0.0,\n",
       " 23: 0.0,\n",
       " 18: 0.0,\n",
       " 19: 0.0,\n",
       " 20: 0.0,\n",
       " 21: 0.0,\n",
       " 24: 0.0,\n",
       " 25: 0.0,\n",
       " 26: 0.0,\n",
       " 27: 0.0}"
      ]
     },
     "execution_count": 99,
     "metadata": {},
     "output_type": "execute_result"
    }
   ],
   "source": [
    "##Betweeneness Centrality\n",
    "nx.betweenness_centrality(g)"
   ]
  },
  {
   "cell_type": "code",
   "execution_count": 100,
   "metadata": {},
   "outputs": [
    {
     "data": {
      "text/plain": [
       "0.7177029474921711"
      ]
     },
     "execution_count": 100,
     "metadata": {},
     "output_type": "execute_result"
    }
   ],
   "source": [
    "##Assortativility\n",
    "nx.degree_assortativity_coefficient(g)"
   ]
  },
  {
   "cell_type": "markdown",
   "metadata": {},
   "source": [
    "- 5.Manipulate the network*"
   ]
  },
  {
   "cell_type": "code",
   "execution_count": 115,
   "metadata": {},
   "outputs": [
    {
     "name": "stdout",
     "output_type": "stream",
     "text": [
      "[1, 2, 3, 4, 5, 6, 7, 8, 9, 10, 11, 12, 13, 14, 15, 16, 17, 22, 23, 18, 19, 20, 21, 24, 25, 26, 27]\n",
      "[1, 2, 3, 4, 6, 7, 8, 9, 10, 11, 12, 13, 14, 15, 16, 17]\n"
     ]
    }
   ],
   "source": [
    "##Remove all nodes with less than 4 edges\n",
    "g2 = g.copy()\n",
    "print(g2.nodes())\n",
    "\n",
    "remove = [node for node,degree in dict(g2.degree()).items() if degree < 4]\n",
    "\n",
    "g2.remove_nodes_from(remove)\n",
    "\n",
    "print(g2.nodes())"
   ]
  },
  {
   "cell_type": "code",
   "execution_count": 117,
   "metadata": {},
   "outputs": [
    {
     "name": "stdout",
     "output_type": "stream",
     "text": [
      "Diameter: 3\n"
     ]
    },
    {
     "data": {
      "image/png": "[encoded data removed]",
      "text/plain": [
       "<Figure size 432x288 with 1 Axes>"
      ]
     },
     "metadata": {},
     "output_type": "display_data"
    }
   ],
   "source": [
    "## 5.2.Plot the network and get the new Diameter. Compare these output with the ones obtained in points 2.3 and 3.\n",
    "G2=g2\n",
    "print('Diameter:', nx.diameter(G2))\n",
    "layout = nx.spring_layout(G2)\n",
    "\n",
    "nx.draw(G2,pos=layout,node_size=150,alpha=0.5)"
   ]
  },
  {
   "cell_type": "code",
   "execution_count": 119,
   "metadata": {},
   "outputs": [
    {
     "data": {
      "image/png": "[encoded data removed]",
      "text/plain": [
       "<Figure size 432x288 with 1 Axes>"
      ]
     },
     "metadata": {},
     "output_type": "display_data"
    }
   ],
   "source": [
    "## Plot the graph with all nodes coloured in green and highlight the nodes with the fewest edges in red \n",
    "\n",
    "min_deg, min_node = 100, 100\n",
    "for n in g2.nodes():\n",
    "    deg = g2.degree(n)\n",
    "    if g2.degree(n) < min_deg:\n",
    "        min_deg = g2.degree(n)\n",
    "        min_node = n\n",
    "        \n",
    "color_map = []\n",
    "for node in g2:\n",
    "    if node == min_node:\n",
    "        color_map.append('red')\n",
    "    else: \n",
    "        color_map.append('green')\n",
    "\n",
    "nx.draw(g2, node_color=color_map, with_labels=True)\n",
    "plt.show()"
   ]
  },
  {
   "cell_type": "code",
   "execution_count": null,
   "metadata": {},
   "outputs": [],
   "source": []
  }
 ],
 "metadata": {
  "kernelspec": {
   "display_name": "Python 3",
   "language": "python",
   "name": "python3"
  },
  "language_info": {
   "codemirror_mode": {
    "name": "ipython",
    "version": 3
   },
   "file_extension": ".py",
   "mimetype": "text/x-python",
   "name": "python",
   "nbconvert_exporter": "python",
   "pygments_lexer": "ipython3",
   "version": "3.8.8"
  }
 },
 "nbformat": 4,
 "nbformat_minor": 2
}
