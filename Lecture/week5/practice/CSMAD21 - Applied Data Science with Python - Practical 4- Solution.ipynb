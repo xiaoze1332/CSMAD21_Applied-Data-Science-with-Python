{
 "cells": [
  {
   "cell_type": "markdown",
   "metadata": {
    "id": "7c3ZagWDHs7O"
   },
   "source": [
    "# CSMAD21 - Applied Data Science with Python - Practical 4\n",
    "\n",
    "## Functional Programming"
   ]
  },
  {
   "cell_type": "markdown",
   "metadata": {
    "id": "BWkg9IpbHs7S"
   },
   "source": [
    "Follow the instructions to complete each of these tasks, and use the testing code cells to check your answers. This set of exercises focuses on writing functional programming in Python.\n",
    "\n",
    "**Questions marked with a * are extra challenging**\n",
    "\n",
    "The relevant materials for these exercises are lectures 7, 8 and 9.\n",
    "\n",
    "This is not assessed but will help you gain practical experience for the exam and coursework.\n",
    "\n",
    "You will need to download some of the csv data set files from the module Blackboard page and place them in the same folder as this notebook. Run the cell below to load all of the necessary Python modules.\n"
   ]
  },
  {
   "cell_type": "markdown",
   "metadata": {
    "id": "OSfi2mdzHs7V"
   },
   "source": [
    "\n",
    "### 1. Basic Python and data structures \n",
    "\n",
    "#### 1.1\n",
    "\n",
    "Write a function fib(n) that returns the first n values of the Fibonacci sequence $F$, with $F_1=1$, $F_2=1$, $F_n = F_{n-1} + F_{n-2}$."
   ]
  },
  {
   "cell_type": "code",
   "execution_count": 1,
   "metadata": {
    "id": "Mrb_1uCaHs7h"
   },
   "outputs": [],
   "source": [
    "def fib(n):\n",
    "    if n<0:\n",
    "        print(\"incorrect input\")\n",
    "    elif n==1:\n",
    "        return 1\n",
    "    elif n==2:\n",
    "        return 1\n",
    "    else:\n",
    "        return fib(n-1)+fib(n-2)\n",
    "    "
   ]
  },
  {
   "cell_type": "code",
   "execution_count": 2,
   "metadata": {
    "colab": {
     "base_uri": "https://localhost:8080/"
    },
    "id": "XkdzdDBtHs7y",
    "outputId": "bbbd3774-79ce-43f0-e5c0-49cf7d16046b"
   },
   "outputs": [
    {
     "data": {
      "text/plain": [
       "144"
      ]
     },
     "execution_count": 2,
     "metadata": {},
     "output_type": "execute_result"
    }
   ],
   "source": [
    "# Testing\n",
    "fib(12) # Should give 144"
   ]
  },
  {
   "cell_type": "markdown",
   "metadata": {
    "id": "QsPI6VArHs78"
   },
   "source": [
    "#### 1.2\n",
    "\n",
    "Write a function rev(xs) that takes a list as argument and returns the list in reverse, without using the built-in Python reverse() method."
   ]
  },
  {
   "cell_type": "code",
   "execution_count": 3,
   "metadata": {
    "id": "ZVMHJotuHs8A"
   },
   "outputs": [],
   "source": [
    "def rev(xs):\n",
    "    sx=xs[::-1]\n",
    "    print(sx)"
   ]
  },
  {
   "cell_type": "code",
   "execution_count": 4,
   "metadata": {
    "colab": {
     "base_uri": "https://localhost:8080/"
    },
    "id": "w3buSlOoHs8O",
    "outputId": "10399abd-bdd6-4486-f13f-84ec1ab33da6"
   },
   "outputs": [
    {
     "name": "stdout",
     "output_type": "stream",
     "text": [
      "[1, 'test', 4, [2, 1]]\n"
     ]
    }
   ],
   "source": [
    "# Testing\n",
    "rev([[2,1],4,\"test\",1]) # Should return [1,\"test\",4,[2,1]]"
   ]
  },
  {
   "cell_type": "markdown",
   "metadata": {
    "id": "AjBSteXmHs8a"
   },
   "source": [
    "#### 1.3\n",
    "\n",
    "Write a function palindrome(s) to determine if a string s is a palindrome (the same backwards as forwards), returning True if it is and False otherwise. The function should ignore capitalisation (you can use the lower() method for strings for this)."
   ]
  },
  {
   "cell_type": "code",
   "execution_count": 5,
   "metadata": {
    "id": "FRtoOhMzHs8c"
   },
   "outputs": [],
   "source": [
    "def palindrome(s):\n",
    "    y=s.lower()\n",
    "    sx=y[::-1]\n",
    "    if y==sx:\n",
    "        return True\n",
    "    else:\n",
    "        return False"
   ]
  },
  {
   "cell_type": "code",
   "execution_count": 6,
   "metadata": {
    "colab": {
     "base_uri": "https://localhost:8080/"
    },
    "id": "WlH8qes3Hs8n",
    "outputId": "c8a47e66-3d60-4050-d110-ec503bf2c72f"
   },
   "outputs": [
    {
     "name": "stdout",
     "output_type": "stream",
     "text": [
      "True\n",
      "False\n",
      "True\n"
     ]
    }
   ],
   "source": [
    "# Testing\n",
    "print(palindrome(\"Kayak\")) # True\n",
    "print(palindrome(\"Python\")) # False\n",
    "print(palindrome(\"civic\")) # True"
   ]
  },
  {
   "cell_type": "markdown",
   "metadata": {},
   "source": [
    "#### 1.4\n",
    "\n",
    "Write a function is Anagram(s<sub>1</sub>, s<sub>2</sub>) that accepts two strings s<sub>1</sub> and s<sub>2</sub>, and returns True if the two strings are anagrams and False if they are not. Ensure that capital letters do not affect the string comparison."
   ]
  },
  {
   "cell_type": "code",
   "execution_count": 19,
   "metadata": {},
   "outputs": [],
   "source": [
    "## 1.4 option 1\n",
    "def isAnagram(s1, s2):\n",
    "    s1, s2 = s1.replace(\" \", \"\").lower(), s2.replace(\" \", \"\").lower()\n",
    "    s1_list = list(s1)\n",
    "    s1_list.sort()\n",
    "    s2_list = list(s2)\n",
    "    s2_list.sort()\n",
    "\n",
    "    if s1_list == s2_list:\n",
    "        return True\n",
    "    else:\n",
    "        return False\n",
    "    \n",
    "\n",
    "# 1.4 option 2\n",
    "def isAnagram(s1, s2):\n",
    "    s1, s2 = s1.replace(\" \", \"\").lower(), s2.replace(\" \", \"\").lower()\n",
    "    if sorted(s1) == sorted(s2):\n",
    "        return True\n",
    "    else:\n",
    "        return False "
   ]
  },
  {
   "cell_type": "code",
   "execution_count": 31,
   "metadata": {},
   "outputs": [
    {
     "data": {
      "text/plain": [
       "False"
      ]
     },
     "execution_count": 31,
     "metadata": {},
     "output_type": "execute_result"
    }
   ],
   "source": [
    "# Testing\n",
    "\n",
    "isAnagram('car', 'arc') # True\n",
    "isAnagram('streSsed', 'Desserts') #True\n",
    "isAnagram('bragg', 'grab') #False\n",
    "isAnagram('holes', 'soles') #False"
   ]
  },
  {
   "cell_type": "markdown",
   "metadata": {
    "id": "ZtuBaDsqHs8t"
   },
   "source": [
    "### 2. Map\n",
    "\n",
    "#### 2.1\n",
    "\n",
    "Use a map to return the largest element of each pair (tuple) in the list below"
   ]
  },
  {
   "cell_type": "code",
   "execution_count": 3,
   "metadata": {
    "id": "-yCykH1zHs8u"
   },
   "outputs": [],
   "source": [
    "a = [(3, 2, 3), (1, 9, 10), (4, 1, 2), (8, 6, 3), (1, 7, 9)]\n",
    "f = lambda x :max"
   ]
  },
  {
   "cell_type": "code",
   "execution_count": 4,
   "metadata": {
    "colab": {
     "base_uri": "https://localhost:8080/"
    },
    "id": "0u1D2-x_Hs82",
    "outputId": "f3600718-059a-4802-8a48-e9e388011875"
   },
   "outputs": [
    {
     "data": {
      "text/plain": [
       "[3, 10, 4, 8, 9]"
      ]
     },
     "execution_count": 4,
     "metadata": {},
     "output_type": "execute_result"
    }
   ],
   "source": [
    "# Testing\n",
    "list( map(max,a))# [(3, 2, 3), (1, 9, 10), (4, 1, 2), (8, 6, 3), (1, 7, 9)]"
   ]
  },
  {
   "cell_type": "markdown",
   "metadata": {},
   "source": [
    "#### 2.2\n",
    "\n",
    "Write a function ends_with_e(s), that accepts a string s and returns True if the string ends with 'e' and False if the string does not end with 'e'. Use a map to return a True, if the string ends with 'e' or False if the string does not end with 'e', for each element of a list of strings. "
   ]
  },
  {
   "cell_type": "code",
   "execution_count": 28,
   "metadata": {},
   "outputs": [
    {
     "data": {
      "text/plain": [
       "[True, False, False, False, True]"
      ]
     },
     "execution_count": 28,
     "metadata": {},
     "output_type": "execute_result"
    }
   ],
   "source": [
    "def ends_with_e(s):\n",
    "    s.lower()\n",
    "    return s[-1] == \"e\"\n",
    "\n",
    "fruit = [\"Apple\", \"Banana\", \"Pear\", \"Apricot\", \"Orange\"]\n",
    "list(map(starts_with_A, fruit))\n"
   ]
  },
  {
   "cell_type": "code",
   "execution_count": 32,
   "metadata": {},
   "outputs": [
    {
     "data": {
      "text/plain": [
       "[True, False, False, False, True]"
      ]
     },
     "execution_count": 32,
     "metadata": {},
     "output_type": "execute_result"
    }
   ],
   "source": [
    "#Test\n",
    "fruit = [\"Apple\", \"Banana\", \"Pear\", \"Apricot\", \"Orange\"]\n",
    "\n",
    "list(map(starts_with_A, fruit)) # [True, False, False, False, True]"
   ]
  },
  {
   "cell_type": "markdown",
   "metadata": {
    "id": "e6CC32ZdHs8-"
   },
   "source": [
    "### 3. Fold\n",
    "\n",
    "#### 3.1*\n",
    "\n",
    "Write __filter function__ that validates the presence of the __\"@\"__ symbol in a list of emails. Please implement the solution with __anonymous function__."
   ]
  },
  {
   "cell_type": "code",
   "execution_count": 72,
   "metadata": {},
   "outputs": [
    {
     "name": "stdout",
     "output_type": "stream",
     "text": [
      "['lupita@gmail.com', 'pure123@reading.ac.uk']\n"
     ]
    }
   ],
   "source": [
    "def valid_email(email):\n",
    "    if '@' in email:\n",
    "        return email\n",
    "\n",
    "emlist = ['lupita@gmail.com','chanclaATgmail.om','I lost my email','pure123@reading.ac.uk', 'notanemail']\n",
    "\n",
    "femail_list = filter(valid_email, emlist)\n",
    "print(list(femail_list))\n"
   ]
  },
  {
   "cell_type": "code",
   "execution_count": 73,
   "metadata": {},
   "outputs": [
    {
     "name": "stdout",
     "output_type": "stream",
     "text": [
      "['lupita@gmail.com', 'pure123@reading.ac.uk']\n"
     ]
    }
   ],
   "source": [
    "## Annonymous function\n",
    "femail_list = filter(lambda x: '@' in  x,emlist) \n",
    "\n",
    "##Email list:\n",
    "emlist = ['lupita@gmail.com','chanclaATgmail.om','I lost my email','pure123@reading.ac.uk', 'notanemail']\n",
    "print(list(femail_list))"
   ]
  },
  {
   "cell_type": "code",
   "execution_count": 74,
   "metadata": {
    "colab": {
     "base_uri": "https://localhost:8080/"
    },
    "id": "CB-W4J4NHs8_",
    "outputId": "27e0e5ee-15f3-41f1-d2f4-7a12713a87ac"
   },
   "outputs": [],
   "source": [
    "##Test with the following list:\n",
    "emlist = ['lupita@gmail.com','chanclaATgmail.om','I lost my email','pure123@reading.ac.uk', 'notanemail'] \n",
    "# Should return ['lupita@gmail.com', 'pure123@reading.ac.uk']"
   ]
  },
  {
   "cell_type": "markdown",
   "metadata": {
    "id": "b5_G_33XHs9V"
   },
   "source": [
    "### 4. Higher order functions\n",
    "\n",
    "#### 4.1*\n",
    "\n",
    "Write a function power(f,n) that takes a function as an argument, and returns a function that applies f to its input n times\n",
    "\n",
    "E.g. for g=power(f,3), $g(x)=f(f(f(x)))$"
   ]
  },
  {
   "cell_type": "code",
   "execution_count": 75,
   "metadata": {
    "colab": {
     "base_uri": "https://localhost:8080/"
    },
    "id": "CawUIs00Hs9X",
    "outputId": "2c305941-0b99-45ad-ca69-ffb12222b465"
   },
   "outputs": [
    {
     "name": "stdout",
     "output_type": "stream",
     "text": [
      "43046721\n"
     ]
    }
   ],
   "source": [
    "def power (f, x, n) :\n",
    "    for i in range(n):\n",
    "        x = f(x)\n",
    "    return x\n",
    "\n",
    "def square(x):\n",
    "    return pow(x, 2)\n",
    "\n",
    "y = power(square,3, 4)\n",
    "print(y)\n",
    "\n",
    "  "
   ]
  },
  {
   "cell_type": "markdown",
   "metadata": {
    "id": "ZT3Gmrx4Hs9i"
   },
   "source": [
    "### 5. List comprehensions\n",
    "\n",
    "#### 5.1\n",
    "\n",
    "Write a list comprehension that will return all possible sets of three values x,y,z, one from each list a,b and c, where x<y<z."
   ]
  },
  {
   "cell_type": "code",
   "execution_count": 19,
   "metadata": {
    "id": "4F8wxSDDHs9l"
   },
   "outputs": [],
   "source": [
    "a = [2,4,5,6,7]\n",
    "b = [3,9,6,4]\n",
    "c = [5,2,9]"
   ]
  },
  {
   "cell_type": "code",
   "execution_count": 20,
   "metadata": {
    "colab": {
     "base_uri": "https://localhost:8080/"
    },
    "id": "6pMJ-Yx8a4xS",
    "outputId": "2766bbc4-aa09-4202-f0f0-213e26ef45f9"
   },
   "outputs": [
    {
     "data": {
      "text/plain": [
       "[(2, 3, 5), (2, 3, 9), (2, 6, 9), (2, 4, 5), (2, 4, 9), (4, 6, 9), (5, 6, 9)]"
      ]
     },
     "execution_count": 20,
     "metadata": {},
     "output_type": "execute_result"
    }
   ],
   "source": [
    "[(x,y,z) for x in a for y in b for z in c if x<y<z]\n",
    "# Should give [(2, 3, 5), (2, 3, 9), (2, 6, 9), (2, 4, 5), (2, 4, 9), (4, 6, 9), (5, 6, 9)]"
   ]
  },
  {
   "cell_type": "markdown",
   "metadata": {
    "id": "Qlb9bVVKHs91"
   },
   "source": [
    "#### 5.2\n",
    "\n",
    "Write a list comprehension that returns pairs (x,y) where x is divisble by y for x in the range a and y in the range b."
   ]
  },
  {
   "cell_type": "code",
   "execution_count": 21,
   "metadata": {
    "id": "Ot_mSkHjHs93"
   },
   "outputs": [],
   "source": [
    "a = range(1,22)\n",
    "b = range(1,11)"
   ]
  },
  {
   "cell_type": "code",
   "execution_count": 22,
   "metadata": {
    "colab": {
     "base_uri": "https://localhost:8080/"
    },
    "id": "2R42IRonHs99",
    "outputId": "9230c999-30a2-47b7-d2ca-bf6f35245fcb"
   },
   "outputs": [
    {
     "data": {
      "text/plain": [
       "59"
      ]
     },
     "execution_count": 22,
     "metadata": {},
     "output_type": "execute_result"
    }
   ],
   "source": [
    "z=[(x,y) for x in range(1,22) for y in range(1,11) if x%y==0]\n",
    "# Output should have 59 elements - test this with len()\n",
    "len(z)"
   ]
  },
  {
   "cell_type": "markdown",
   "metadata": {
    "id": "11Ww8zfKHs-C"
   },
   "source": [
    "### 6. Generators\n",
    "#### 6.1\n",
    "\n",
    "Write a generator expression g that will generate an infinite sequence of values which are not divisible by 3 or 5. You should use the count function in the itertools module to generate the infinite range. "
   ]
  },
  {
   "cell_type": "code",
   "execution_count": 75,
   "metadata": {
    "id": "YnQjig4QHs-D"
   },
   "outputs": [],
   "source": [
    "import itertools\n",
    "def g(N):\n",
    "    for i in itertools.count(1,1):\n",
    "        if (i%3!=0 and i%5!=0):\n",
    "            yield i"
   ]
  },
  {
   "cell_type": "code",
   "execution_count": 76,
   "metadata": {
    "colab": {
     "base_uri": "https://localhost:8080/"
    },
    "id": "hnr__8332-mg",
    "outputId": "50b13410-912d-4839-8351-5a32e562a67a"
   },
   "outputs": [
    {
     "name": "stdout",
     "output_type": "stream",
     "text": [
      "1\n",
      "2\n",
      "4\n",
      "7\n",
      "8\n",
      "11\n"
     ]
    }
   ],
   "source": [
    "gen=g(5)\n",
    "print(next(gen))\n",
    "print(next(gen))\n",
    "print(next(gen))\n",
    "print(next(gen))\n",
    "print(next(gen))\n",
    "print(next(gen))"
   ]
  },
  {
   "cell_type": "markdown",
   "metadata": {
    "id": "L4OWf38xHs-I"
   },
   "source": [
    "#### 6.2\n",
    "\n",
    "Write a function take(g,n) that takes a generator g as an argument and returns a list containing the first n values of g. Use it to generate the first five values of the generator in the previous question."
   ]
  },
  {
   "cell_type": "code",
   "execution_count": 77,
   "metadata": {
    "id": "S316Ddm5Hs-K"
   },
   "outputs": [],
   "source": [
    "def take(g,n):\n",
    "    return [next(g) for i in range(n)]"
   ]
  },
  {
   "cell_type": "code",
   "execution_count": 78,
   "metadata": {
    "colab": {
     "base_uri": "https://localhost:8080/"
    },
    "id": "VriD4zJ2Hs-P",
    "outputId": "726a68e4-68a1-4e8a-b0c2-a04e8d80d6de"
   },
   "outputs": [
    {
     "data": {
      "text/plain": [
       "[1, 2, 4, 7, 8]"
      ]
     },
     "execution_count": 78,
     "metadata": {},
     "output_type": "execute_result"
    }
   ],
   "source": [
    "# Testing\n",
    "take(g(20),5) # Should give [1,2,4,7,8]"
   ]
  },
  {
   "cell_type": "markdown",
   "metadata": {},
   "source": [
    "### 7 Exceptions\n",
    "\n",
    "Using the diamonds dataset as input, write a function called __expensive_diamonds__ that receives 2 parameters(carat and cut) returns the price(or average price if needed) of the diamond. Your function should comply with the following requirements:\n",
    "- It should be able to handle if the carat/cut combination provided is not present in the dataset(empty dataset). How to handle this error is entirely up to you; provide justification.\n",
    "- Because the function consider just extensive diamonds, the requests that end up with prices below 3,000 should be excluded. How to handle this exception is entirely up to you; provide justification."
   ]
  },
  {
   "cell_type": "code",
   "execution_count": 1,
   "metadata": {},
   "outputs": [
    {
     "data": {
      "text/html": [
       "<div>\n",
       "<style scoped>\n",
       "    .dataframe tbody tr th:only-of-type {\n",
       "        vertical-align: middle;\n",
       "    }\n",
       "\n",
       "    .dataframe tbody tr th {\n",
       "        vertical-align: top;\n",
       "    }\n",
       "\n",
       "    .dataframe thead th {\n",
       "        text-align: right;\n",
       "    }\n",
       "</style>\n",
       "<table border=\"1\" class=\"dataframe\">\n",
       "  <thead>\n",
       "    <tr style=\"text-align: right;\">\n",
       "      <th></th>\n",
       "      <th>carat</th>\n",
       "      <th>cut</th>\n",
       "      <th>color</th>\n",
       "      <th>clarity</th>\n",
       "      <th>depth</th>\n",
       "      <th>table</th>\n",
       "      <th>price</th>\n",
       "      <th>x</th>\n",
       "      <th>y</th>\n",
       "      <th>z</th>\n",
       "    </tr>\n",
       "  </thead>\n",
       "  <tbody>\n",
       "    <tr>\n",
       "      <th>0</th>\n",
       "      <td>0.23</td>\n",
       "      <td>Ideal</td>\n",
       "      <td>E</td>\n",
       "      <td>SI2</td>\n",
       "      <td>61.5</td>\n",
       "      <td>55.0</td>\n",
       "      <td>326</td>\n",
       "      <td>3.95</td>\n",
       "      <td>3.98</td>\n",
       "      <td>2.43</td>\n",
       "    </tr>\n",
       "    <tr>\n",
       "      <th>1</th>\n",
       "      <td>0.21</td>\n",
       "      <td>Premium</td>\n",
       "      <td>E</td>\n",
       "      <td>SI1</td>\n",
       "      <td>59.8</td>\n",
       "      <td>61.0</td>\n",
       "      <td>326</td>\n",
       "      <td>3.89</td>\n",
       "      <td>3.84</td>\n",
       "      <td>2.31</td>\n",
       "    </tr>\n",
       "    <tr>\n",
       "      <th>2</th>\n",
       "      <td>0.23</td>\n",
       "      <td>Good</td>\n",
       "      <td>E</td>\n",
       "      <td>VS1</td>\n",
       "      <td>56.9</td>\n",
       "      <td>65.0</td>\n",
       "      <td>327</td>\n",
       "      <td>4.05</td>\n",
       "      <td>4.07</td>\n",
       "      <td>2.31</td>\n",
       "    </tr>\n",
       "    <tr>\n",
       "      <th>3</th>\n",
       "      <td>0.29</td>\n",
       "      <td>Premium</td>\n",
       "      <td>I</td>\n",
       "      <td>VS2</td>\n",
       "      <td>62.4</td>\n",
       "      <td>58.0</td>\n",
       "      <td>334</td>\n",
       "      <td>4.20</td>\n",
       "      <td>4.23</td>\n",
       "      <td>2.63</td>\n",
       "    </tr>\n",
       "    <tr>\n",
       "      <th>4</th>\n",
       "      <td>0.31</td>\n",
       "      <td>Good</td>\n",
       "      <td>J</td>\n",
       "      <td>SI2</td>\n",
       "      <td>63.3</td>\n",
       "      <td>58.0</td>\n",
       "      <td>335</td>\n",
       "      <td>4.34</td>\n",
       "      <td>4.35</td>\n",
       "      <td>2.75</td>\n",
       "    </tr>\n",
       "  </tbody>\n",
       "</table>\n",
       "</div>"
      ],
      "text/plain": [
       "   carat      cut color clarity  depth  table  price     x     y     z\n",
       "0   0.23    Ideal     E     SI2   61.5   55.0    326  3.95  3.98  2.43\n",
       "1   0.21  Premium     E     SI1   59.8   61.0    326  3.89  3.84  2.31\n",
       "2   0.23     Good     E     VS1   56.9   65.0    327  4.05  4.07  2.31\n",
       "3   0.29  Premium     I     VS2   62.4   58.0    334  4.20  4.23  2.63\n",
       "4   0.31     Good     J     SI2   63.3   58.0    335  4.34  4.35  2.75"
      ]
     },
     "execution_count": 1,
     "metadata": {},
     "output_type": "execute_result"
    }
   ],
   "source": [
    "import pandas as pd\n",
    "diamonds = pd.read_csv('Datasets/diamonds.csv')\n",
    "diamonds.head()"
   ]
  },
  {
   "cell_type": "code",
   "execution_count": 56,
   "metadata": {},
   "outputs": [],
   "source": [
    "def expensive_diamonds(crt,cut):\n",
    "    if len(diamonds.loc[(diamonds['carat'] ==crt) & (diamonds['cut'] == cut)]) == 0:\n",
    "        raise IndexError('The carat/cut values provided were not found')\n",
    "\n",
    "    else:\n",
    "        if diamonds.loc[(diamonds['carat'] ==crt) & (diamonds['cut'] == cut), 'price'].mean() <= 3000:\n",
    "            raise ValueError('This business just work with expensive diamonds')\n",
    "        else:\n",
    "            return diamonds.loc[(diamonds['carat'] ==crt) & (diamonds['cut'] == cut), 'price'].mean()"
   ]
  },
  {
   "cell_type": "code",
   "execution_count": 57,
   "metadata": {},
   "outputs": [
    {
     "data": {
      "text/plain": [
       "12443.0"
      ]
     },
     "execution_count": 57,
     "metadata": {},
     "output_type": "execute_result"
    }
   ],
   "source": [
    "##Test your funtion with the following values:\n",
    "expensive_diamonds(3, 'Good')"
   ]
  },
  {
   "cell_type": "code",
   "execution_count": 58,
   "metadata": {},
   "outputs": [
    {
     "ename": "IndexError",
     "evalue": "The carat/cut values provided were not found",
     "output_type": "error",
     "traceback": [
      "\u001b[1;31m---------------------------------------------------------------------------\u001b[0m",
      "\u001b[1;31mIndexError\u001b[0m                                Traceback (most recent call last)",
      "\u001b[1;32m<ipython-input-58-16f24f5d1418>\u001b[0m in \u001b[0;36m<module>\u001b[1;34m\u001b[0m\n\u001b[0;32m      1\u001b[0m \u001b[1;31m##Test your funtion with the following values:\u001b[0m\u001b[1;33m\u001b[0m\u001b[1;33m\u001b[0m\u001b[1;33m\u001b[0m\u001b[0m\n\u001b[1;32m----> 2\u001b[1;33m \u001b[0mexpensive_diamonds\u001b[0m\u001b[1;33m(\u001b[0m\u001b[1;34m'hello'\u001b[0m\u001b[1;33m,\u001b[0m \u001b[1;34m'Good'\u001b[0m\u001b[1;33m)\u001b[0m\u001b[1;33m\u001b[0m\u001b[1;33m\u001b[0m\u001b[0m\n\u001b[0m",
      "\u001b[1;32m<ipython-input-56-f4103e1c2bfa>\u001b[0m in \u001b[0;36mexpensive_diamonds\u001b[1;34m(crt, cut)\u001b[0m\n\u001b[0;32m      1\u001b[0m \u001b[1;32mdef\u001b[0m \u001b[0mexpensive_diamonds\u001b[0m\u001b[1;33m(\u001b[0m\u001b[0mcrt\u001b[0m\u001b[1;33m,\u001b[0m\u001b[0mcut\u001b[0m\u001b[1;33m)\u001b[0m\u001b[1;33m:\u001b[0m\u001b[1;33m\u001b[0m\u001b[1;33m\u001b[0m\u001b[0m\n\u001b[0;32m      2\u001b[0m     \u001b[1;32mif\u001b[0m \u001b[0mlen\u001b[0m\u001b[1;33m(\u001b[0m\u001b[0mdiamonds\u001b[0m\u001b[1;33m.\u001b[0m\u001b[0mloc\u001b[0m\u001b[1;33m[\u001b[0m\u001b[1;33m(\u001b[0m\u001b[0mdiamonds\u001b[0m\u001b[1;33m[\u001b[0m\u001b[1;34m'carat'\u001b[0m\u001b[1;33m]\u001b[0m \u001b[1;33m==\u001b[0m\u001b[0mcrt\u001b[0m\u001b[1;33m)\u001b[0m \u001b[1;33m&\u001b[0m \u001b[1;33m(\u001b[0m\u001b[0mdiamonds\u001b[0m\u001b[1;33m[\u001b[0m\u001b[1;34m'cut'\u001b[0m\u001b[1;33m]\u001b[0m \u001b[1;33m==\u001b[0m \u001b[0mcut\u001b[0m\u001b[1;33m)\u001b[0m\u001b[1;33m]\u001b[0m\u001b[1;33m)\u001b[0m \u001b[1;33m==\u001b[0m \u001b[1;36m0\u001b[0m\u001b[1;33m:\u001b[0m\u001b[1;33m\u001b[0m\u001b[1;33m\u001b[0m\u001b[0m\n\u001b[1;32m----> 3\u001b[1;33m         \u001b[1;32mraise\u001b[0m \u001b[0mIndexError\u001b[0m\u001b[1;33m(\u001b[0m\u001b[1;34m'The carat/cut values provided were not found'\u001b[0m\u001b[1;33m)\u001b[0m\u001b[1;33m\u001b[0m\u001b[1;33m\u001b[0m\u001b[0m\n\u001b[0m\u001b[0;32m      4\u001b[0m \u001b[1;33m\u001b[0m\u001b[0m\n\u001b[0;32m      5\u001b[0m     \u001b[1;32melse\u001b[0m\u001b[1;33m:\u001b[0m\u001b[1;33m\u001b[0m\u001b[1;33m\u001b[0m\u001b[0m\n",
      "\u001b[1;31mIndexError\u001b[0m: The carat/cut values provided were not found"
     ]
    }
   ],
   "source": [
    "##Test your funtion with the following values:\n",
    "expensive_diamonds('hello', 'Good')"
   ]
  },
  {
   "cell_type": "code",
   "execution_count": 60,
   "metadata": {},
   "outputs": [
    {
     "ename": "ValueError",
     "evalue": "This business just work with expensive diamonds",
     "output_type": "error",
     "traceback": [
      "\u001b[1;31m---------------------------------------------------------------------------\u001b[0m",
      "\u001b[1;31mValueError\u001b[0m                                Traceback (most recent call last)",
      "\u001b[1;32m<ipython-input-60-16e0120834a5>\u001b[0m in \u001b[0;36m<module>\u001b[1;34m\u001b[0m\n\u001b[0;32m      1\u001b[0m \u001b[1;31m##Test your funtion with the following values:\u001b[0m\u001b[1;33m\u001b[0m\u001b[1;33m\u001b[0m\u001b[1;33m\u001b[0m\u001b[0m\n\u001b[1;32m----> 2\u001b[1;33m \u001b[0mexpensive_diamonds\u001b[0m\u001b[1;33m(\u001b[0m\u001b[1;36m.5\u001b[0m\u001b[1;33m,\u001b[0m \u001b[1;34m'Good'\u001b[0m\u001b[1;33m)\u001b[0m\u001b[1;33m\u001b[0m\u001b[1;33m\u001b[0m\u001b[0m\n\u001b[0m",
      "\u001b[1;32m<ipython-input-56-f4103e1c2bfa>\u001b[0m in \u001b[0;36mexpensive_diamonds\u001b[1;34m(crt, cut)\u001b[0m\n\u001b[0;32m      5\u001b[0m     \u001b[1;32melse\u001b[0m\u001b[1;33m:\u001b[0m\u001b[1;33m\u001b[0m\u001b[1;33m\u001b[0m\u001b[0m\n\u001b[0;32m      6\u001b[0m         \u001b[1;32mif\u001b[0m \u001b[0mdiamonds\u001b[0m\u001b[1;33m.\u001b[0m\u001b[0mloc\u001b[0m\u001b[1;33m[\u001b[0m\u001b[1;33m(\u001b[0m\u001b[0mdiamonds\u001b[0m\u001b[1;33m[\u001b[0m\u001b[1;34m'carat'\u001b[0m\u001b[1;33m]\u001b[0m \u001b[1;33m==\u001b[0m\u001b[0mcrt\u001b[0m\u001b[1;33m)\u001b[0m \u001b[1;33m&\u001b[0m \u001b[1;33m(\u001b[0m\u001b[0mdiamonds\u001b[0m\u001b[1;33m[\u001b[0m\u001b[1;34m'cut'\u001b[0m\u001b[1;33m]\u001b[0m \u001b[1;33m==\u001b[0m \u001b[0mcut\u001b[0m\u001b[1;33m)\u001b[0m\u001b[1;33m,\u001b[0m \u001b[1;34m'price'\u001b[0m\u001b[1;33m]\u001b[0m\u001b[1;33m.\u001b[0m\u001b[0mmean\u001b[0m\u001b[1;33m(\u001b[0m\u001b[1;33m)\u001b[0m \u001b[1;33m<=\u001b[0m \u001b[1;36m3000\u001b[0m\u001b[1;33m:\u001b[0m\u001b[1;33m\u001b[0m\u001b[1;33m\u001b[0m\u001b[0m\n\u001b[1;32m----> 7\u001b[1;33m             \u001b[1;32mraise\u001b[0m \u001b[0mValueError\u001b[0m\u001b[1;33m(\u001b[0m\u001b[1;34m'This business just work with expensive diamonds'\u001b[0m\u001b[1;33m)\u001b[0m\u001b[1;33m\u001b[0m\u001b[1;33m\u001b[0m\u001b[0m\n\u001b[0m\u001b[0;32m      8\u001b[0m         \u001b[1;32melse\u001b[0m\u001b[1;33m:\u001b[0m\u001b[1;33m\u001b[0m\u001b[1;33m\u001b[0m\u001b[0m\n\u001b[0;32m      9\u001b[0m             \u001b[1;32mreturn\u001b[0m \u001b[0mdiamonds\u001b[0m\u001b[1;33m.\u001b[0m\u001b[0mloc\u001b[0m\u001b[1;33m[\u001b[0m\u001b[1;33m(\u001b[0m\u001b[0mdiamonds\u001b[0m\u001b[1;33m[\u001b[0m\u001b[1;34m'carat'\u001b[0m\u001b[1;33m]\u001b[0m \u001b[1;33m==\u001b[0m\u001b[0mcrt\u001b[0m\u001b[1;33m)\u001b[0m \u001b[1;33m&\u001b[0m \u001b[1;33m(\u001b[0m\u001b[0mdiamonds\u001b[0m\u001b[1;33m[\u001b[0m\u001b[1;34m'cut'\u001b[0m\u001b[1;33m]\u001b[0m \u001b[1;33m==\u001b[0m \u001b[0mcut\u001b[0m\u001b[1;33m)\u001b[0m\u001b[1;33m,\u001b[0m \u001b[1;34m'price'\u001b[0m\u001b[1;33m]\u001b[0m\u001b[1;33m.\u001b[0m\u001b[0mmean\u001b[0m\u001b[1;33m(\u001b[0m\u001b[1;33m)\u001b[0m\u001b[1;33m\u001b[0m\u001b[1;33m\u001b[0m\u001b[0m\n",
      "\u001b[1;31mValueError\u001b[0m: This business just work with expensive diamonds"
     ]
    }
   ],
   "source": [
    "##Test your funtion with the following values:\n",
    "expensive_diamonds(.5, 'Good')"
   ]
  },
  {
   "cell_type": "code",
   "execution_count": null,
   "metadata": {},
   "outputs": [],
   "source": []
  }
 ],
 "metadata": {
  "colab": {
   "name": "Lab 3  Functional Programming and Data Visualisation.ipynb",
   "provenance": []
  },
  "kernelspec": {
   "display_name": "Python 3",
   "language": "python",
   "name": "python3"
  },
  "language_info": {
   "codemirror_mode": {
    "name": "ipython",
    "version": 3
   },
   "file_extension": ".py",
   "mimetype": "text/x-python",
   "name": "python",
   "nbconvert_exporter": "python",
   "pygments_lexer": "ipython3",
   "version": "3.8.8"
  }
 },
 "nbformat": 4,
 "nbformat_minor": 1
}
